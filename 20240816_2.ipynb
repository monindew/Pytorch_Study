{
  "nbformat": 4,
  "nbformat_minor": 0,
  "metadata": {
    "colab": {
      "provenance": [],
      "authorship_tag": "ABX9TyNHPpJfPS8o6p5wB+p7X2KM",
      "include_colab_link": true
    },
    "kernelspec": {
      "name": "python3",
      "display_name": "Python 3"
    },
    "language_info": {
      "name": "python"
    }
  },
  "cells": [
    {
      "cell_type": "markdown",
      "metadata": {
        "id": "view-in-github",
        "colab_type": "text"
      },
      "source": [
        "<a href=\"https://colab.research.google.com/github/monindew/Pytorch_Study/blob/main/20240816_2.ipynb\" target=\"_parent\"><img src=\"https://colab.research.google.com/assets/colab-badge.svg\" alt=\"Open In Colab\"/></a>"
      ]
    },
    {
      "cell_type": "code",
      "execution_count": 1,
      "metadata": {
        "id": "zeblqU8p8-Ig"
      },
      "outputs": [],
      "source": [
        "import torch\n",
        "import torch.nn as nn"
      ]
    },
    {
      "cell_type": "code",
      "source": [
        "x = torch.ones(5000, 10)\n",
        "y = torch.zeros(5000, 1)\n",
        "learning_rate = 0.01\n",
        "nb_epochs = 1000\n",
        "minibatch = 256"
      ],
      "metadata": {
        "id": "bn7UpL_kCeyl"
      },
      "execution_count": 2,
      "outputs": []
    },
    {
      "cell_type": "code",
      "source": [
        "input_dim = x.size(-1)\n",
        "output_dim = y.size(-1)\n",
        "\n",
        "model = nn.Sequential(\n",
        "    nn.Linear(input_dim, 10),\n",
        "    nn.LeakyReLU(0.1),\n",
        "    nn.Linear(10, 8),\n",
        "    nn.LeakyReLU(0.1),\n",
        "    nn.Linear(8, 6),\n",
        "    nn.LeakyReLU(0.1),\n",
        "    nn.Linear(6, output_dim)\n",
        ")\n",
        "\n",
        "loss_function = nn.MSELoss()\n",
        "optimizer = torch.optim.Adam(model.parameters())"
      ],
      "metadata": {
        "id": "imxPUlTICr3u"
      },
      "execution_count": 3,
      "outputs": []
    },
    {
      "cell_type": "code",
      "source": [
        "indices = torch.randperm(x.size(0))\n",
        "print(indices)\n",
        "x_batch_list = torch.index_select(x, 0, indices)\n",
        "y_batch_list = torch.index_select(y, 0, indices)\n",
        "x_batch_list = x_batch_list.split(minibatch)\n",
        "y_batch_list = y_batch_list.split(minibatch)\n",
        "print(len(x_batch_list), len(y_batch_list))"
      ],
      "metadata": {
        "colab": {
          "base_uri": "https://localhost:8080/"
        },
        "id": "obZwF2SuDHfB",
        "outputId": "19d7e8fb-5aa6-40c5-91c0-19f195dab2ef"
      },
      "execution_count": 5,
      "outputs": [
        {
          "output_type": "stream",
          "name": "stdout",
          "text": [
            "tensor([3049,  198,  666,  ..., 1687,  406, 2439])\n",
            "20 20\n"
          ]
        }
      ]
    },
    {
      "cell_type": "code",
      "source": [
        "for index in range(nb_epochs):\n",
        "  indices = torch.randperm(x.size(0))\n",
        "\n",
        "  x_batch_list = torch.index_select(x, 0, indices)\n",
        "  y_batch_list = torch.index_select(y, 0, indices)\n",
        "  x_batch_list = x_batch_list.split(minibatch)\n",
        "  y_batch_list = y_batch_list.split(minibatch)\n",
        "\n",
        "  for x_minibatch, y_minibatch in zip(x_batch_list, y_batch_list):\n",
        "    y_minibatch_pred = model(x_minibatch)\n",
        "    loss = loss_function(y_minibatch_pred, y_minibatch)\n",
        "\n",
        "    optimizer.zero_grad()\n",
        "    loss.backward()\n",
        "    optimizer.step()\n",
        "\n",
        "print(loss)\n",
        "for param in model.parameters():\n",
        "  print(param)"
      ],
      "metadata": {
        "colab": {
          "base_uri": "https://localhost:8080/"
        },
        "id": "2jETu7MXDyeJ",
        "outputId": "cc7ac0d9-aa2e-4742-af49-776aa6726870"
      },
      "execution_count": 6,
      "outputs": [
        {
          "output_type": "stream",
          "name": "stdout",
          "text": [
            "tensor(0., grad_fn=<MseLossBackward0>)\n",
            "Parameter containing:\n",
            "tensor([[ 0.0439, -0.0147,  0.1666,  0.0385,  0.0823, -0.1416, -0.0229, -0.0845,\n",
            "         -0.3609, -0.0861],\n",
            "        [-0.0657,  0.3074,  0.0029,  0.0734,  0.1898,  0.1990,  0.2648,  0.2123,\n",
            "          0.2783,  0.1221],\n",
            "        [ 0.0701, -0.1840,  0.0316,  0.3465,  0.0108,  0.1923,  0.1679, -0.1820,\n",
            "          0.1327,  0.0819],\n",
            "        [ 0.1777, -0.0479,  0.1698, -0.2260,  0.0838,  0.2341, -0.2192, -0.0925,\n",
            "         -0.2301,  0.1170],\n",
            "        [-0.0917, -0.3079, -0.1892,  0.2162, -0.2453,  0.1314, -0.0726,  0.1808,\n",
            "          0.0309,  0.1151],\n",
            "        [-0.1650, -0.3051, -0.0750,  0.1655, -0.0568, -0.0770, -0.1006, -0.1519,\n",
            "         -0.2690, -0.1760],\n",
            "        [ 0.2893,  0.1940, -0.1169, -0.1335, -0.0785,  0.1711,  0.1296,  0.0146,\n",
            "         -0.1039, -0.2350],\n",
            "        [ 0.3360, -0.0262,  0.2106,  0.3596,  0.2828,  0.2314, -0.1194,  0.3418,\n",
            "         -0.2433,  0.3162],\n",
            "        [-0.3047,  0.0219, -0.2114, -0.0428, -0.2148, -0.2317,  0.0582, -0.0444,\n",
            "          0.0726, -0.0064],\n",
            "        [ 0.0065,  0.0015,  0.2720,  0.3083, -0.2241, -0.0444, -0.1549, -0.0187,\n",
            "         -0.0454, -0.0965]], requires_grad=True)\n",
            "Parameter containing:\n",
            "tensor([-0.3140,  0.0301, -0.0732, -0.0690,  0.0910, -0.2732,  0.2924,  0.3511,\n",
            "         0.2056, -0.0185], requires_grad=True)\n",
            "Parameter containing:\n",
            "tensor([[-0.3217,  0.2731,  0.1375, -0.1277, -0.1275, -0.1841,  0.2464,  0.2808,\n",
            "         -0.2899, -0.0562],\n",
            "        [-0.0045,  0.2888,  0.3249, -0.1791, -0.1836, -0.0618,  0.0270, -0.2635,\n",
            "          0.1031,  0.2786],\n",
            "        [ 0.0647,  0.0691,  0.2151, -0.0481, -0.0229,  0.1960, -0.1483, -0.0390,\n",
            "          0.1172,  0.2873],\n",
            "        [ 0.0136, -0.3011,  0.0505,  0.1482, -0.2277,  0.0852, -0.0357,  0.1540,\n",
            "          0.0885, -0.0199],\n",
            "        [ 0.1945, -0.0617, -0.0294,  0.0469,  0.2176,  0.1843, -0.0849,  0.1531,\n",
            "          0.3205, -0.1938],\n",
            "        [ 0.1800, -0.1837, -0.1079, -0.1658,  0.2458,  0.0936,  0.1302, -0.3505,\n",
            "          0.1629,  0.0227],\n",
            "        [ 0.2900, -0.2726, -0.2963,  0.2535, -0.0374,  0.0423, -0.2676, -0.0512,\n",
            "          0.2852,  0.1897],\n",
            "        [-0.2882, -0.0957,  0.3535,  0.1186, -0.0858,  0.0274, -0.0057,  0.2118,\n",
            "          0.0568,  0.1478]], requires_grad=True)\n",
            "Parameter containing:\n",
            "tensor([ 0.0419, -0.1596,  0.2376, -0.0965,  0.1497,  0.1698,  0.0752,  0.3632],\n",
            "       requires_grad=True)\n",
            "Parameter containing:\n",
            "tensor([[-0.1888, -0.1249,  0.1934, -0.1203, -0.2203, -0.0179,  0.3134, -0.1481],\n",
            "        [-0.3293, -0.1206,  0.1728, -0.1744,  0.1882,  0.1005,  0.2506, -0.0029],\n",
            "        [ 0.1331,  0.0461, -0.0385, -0.2113, -0.2024, -0.1144, -0.0351,  0.3336],\n",
            "        [ 0.0264, -0.2843,  0.2778, -0.3626, -0.3116,  0.3062,  0.1412, -0.1575],\n",
            "        [ 0.0134, -0.0075,  0.1783,  0.1829, -0.2794,  0.3854, -0.2137, -0.2694],\n",
            "        [-0.2275, -0.3648, -0.1466, -0.3130, -0.0307,  0.1445, -0.2538,  0.1244]],\n",
            "       requires_grad=True)\n",
            "Parameter containing:\n",
            "tensor([-0.4039,  0.0078,  0.1760, -0.2589, -0.3582, -0.1368],\n",
            "       requires_grad=True)\n",
            "Parameter containing:\n",
            "tensor([[-0.2936, -0.4144,  0.3496, -0.0209, -0.2552,  0.1702]],\n",
            "       requires_grad=True)\n",
            "Parameter containing:\n",
            "tensor([-0.2568], requires_grad=True)\n"
          ]
        }
      ]
    },
    {
      "cell_type": "code",
      "source": [],
      "metadata": {
        "id": "PyhNGVviENIV"
      },
      "execution_count": null,
      "outputs": []
    }
  ]
}