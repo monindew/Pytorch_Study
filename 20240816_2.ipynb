{
  "nbformat": 4,
  "nbformat_minor": 0,
  "metadata": {
    "colab": {
      "provenance": [],
      "authorship_tag": "ABX9TyNkCZgZzaSNRa9GBTzkuAVY",
      "include_colab_link": true
    },
    "kernelspec": {
      "name": "python3",
      "display_name": "Python 3"
    },
    "language_info": {
      "name": "python"
    }
  },
  "cells": [
    {
      "cell_type": "markdown",
      "metadata": {
        "id": "view-in-github",
        "colab_type": "text"
      },
      "source": [
        "<a href=\"https://colab.research.google.com/github/monindew/Pytorch_Study/blob/main/20240816_2.ipynb\" target=\"_parent\"><img src=\"https://colab.research.google.com/assets/colab-badge.svg\" alt=\"Open In Colab\"/></a>"
      ]
    },
    {
      "cell_type": "code",
      "execution_count": 4,
      "metadata": {
        "colab": {
          "base_uri": "https://localhost:8080/"
        },
        "id": "5CI6fVED_9_W",
        "outputId": "e34f1df4-ae40-432d-ffdb-0211e14261c2"
      },
      "outputs": [
        {
          "output_type": "stream",
          "name": "stdout",
          "text": [
            "tensor([[ 0.7807, -0.3112,  0.0602,  0.4125],\n",
            "        [ 0.1432, -0.7276,  0.4472, -0.8463],\n",
            "        [-0.3554,  1.2097, -0.1917,  1.4281]])\n",
            "tensor([1, 2])\n",
            "tensor([[ 0.1432, -0.7276,  0.4472, -0.8463],\n",
            "        [-0.3554,  1.2097, -0.1917,  1.4281]])\n",
            "tensor([[-0.3112,  0.0602],\n",
            "        [-0.7276,  0.4472],\n",
            "        [ 1.2097, -0.1917]])\n"
          ]
        }
      ],
      "source": [
        "import torch\n",
        "import torch.nn as nn\n",
        "import torch.nn.functional as F\n",
        "import torch.optim as optim\n",
        "\n",
        "data1 = torch.randn(3, 4)\n",
        "print(data1)\n",
        "indices = torch.tensor([1, 2])\n",
        "print(indices)\n",
        "print(torch.index_select(data1, 0, indices))\n",
        "print(torch.index_select(data1, 1, indices))"
      ]
    },
    {
      "cell_type": "code",
      "source": [
        "x = torch.ones(5000, 10)\n",
        "y = torch.zeros(5000, 1)\n",
        "learning_rate = 0.01\n",
        "nb_epochs = 1000\n",
        "minibatch_size = 256"
      ],
      "metadata": {
        "id": "ASdwPqdrALB0"
      },
      "execution_count": 5,
      "outputs": []
    },
    {
      "cell_type": "code",
      "source": [
        "input_dim = x.size(-1)\n",
        "output_dim = y.size(-1)\n",
        "\n",
        "model = nn.Sequential(\n",
        "    nn.Linear(input_dim, 10),\n",
        "    nn.LeakyReLU(0.1),\n",
        "    nn.Linear(10, 8),\n",
        "    nn.LeakyReLU(0.1),\n",
        "    nn.Linear(8, 6),\n",
        "    nn.LeakyReLU(0.1),\n",
        "    nn.Linear(6, output_dim)\n",
        ")\n",
        "\n",
        "loss_function = nn.MSELoss()\n",
        "optimizer = torch.optim.SGD(model.parameters(), lr=learning_rate)"
      ],
      "metadata": {
        "id": "bNqhWRQZAkbz"
      },
      "execution_count": 9,
      "outputs": []
    },
    {
      "cell_type": "code",
      "source": [
        "indices = torch.randperm(x.size(0))\n",
        "print(indices)\n",
        "x_batch_list = torch.index_select(x, 0, index=indices)\n",
        "y_batch_list = torch.index_select(y, 0, index=indices)\n",
        "x_batch_list = x_batch_list.split(minibatch_size, dim=0)\n",
        "y_batch_list = y_batch_list.split(minibatch_size, dim=0)\n",
        "print(len(x_batch_list), len(y_batch_list))"
      ],
      "metadata": {
        "colab": {
          "base_uri": "https://localhost:8080/"
        },
        "id": "3oWC1VM0nY1D",
        "outputId": "5561583e-c605-4919-fdc7-632cc2475c28"
      },
      "execution_count": 14,
      "outputs": [
        {
          "output_type": "stream",
          "name": "stdout",
          "text": [
            "tensor([1405, 4476, 1500,  ..., 4799,  868, 4203])\n",
            "20 20\n"
          ]
        }
      ]
    },
    {
      "cell_type": "code",
      "source": [
        "x_batch_list[0]"
      ],
      "metadata": {
        "colab": {
          "base_uri": "https://localhost:8080/"
        },
        "id": "wGaTJxGEnvy6",
        "outputId": "a9f02560-e12d-498f-f10c-0f6c07672594"
      },
      "execution_count": 15,
      "outputs": [
        {
          "output_type": "execute_result",
          "data": {
            "text/plain": [
              "tensor([[1., 1., 1.,  ..., 1., 1., 1.],\n",
              "        [1., 1., 1.,  ..., 1., 1., 1.],\n",
              "        [1., 1., 1.,  ..., 1., 1., 1.],\n",
              "        ...,\n",
              "        [1., 1., 1.,  ..., 1., 1., 1.],\n",
              "        [1., 1., 1.,  ..., 1., 1., 1.],\n",
              "        [1., 1., 1.,  ..., 1., 1., 1.]])"
            ]
          },
          "metadata": {},
          "execution_count": 15
        }
      ]
    },
    {
      "cell_type": "code",
      "source": [
        "for index in range(nb_epochs):\n",
        "  indices = torch.randperm(x.size(0))\n",
        "  x_batch_list = torch.index_select(x, 0, index=indices)\n",
        "  y_batch_list = torch.index_select(y, 0, index=indices)\n",
        "  x_batch_list = x_batch_list.split(minibatch_size, dim=0)\n",
        "  y_batch_list = y_batch_list.split(minibatch_size, dim=0)\n",
        "\n",
        "  for x_minibatch, y_minibatch in zip(x_batch_list, y_batch_list):\n",
        "    y_minibatch_pred = model(x_minibatch)\n",
        "    loss = loss_function(y_minibatch_pred, y_minibatch)\n",
        "    optimizer.zero_grad()\n",
        "    loss.backward()\n",
        "    optimizer.step()\n",
        "\n",
        "print(loss)\n",
        "for param in model.parameters():\n",
        "  print(param)\n"
      ],
      "metadata": {
        "colab": {
          "base_uri": "https://localhost:8080/"
        },
        "id": "kd2r7Xetoavf",
        "outputId": "d7a9f29b-5711-493d-e0e8-92939b1f1aaa"
      },
      "execution_count": 16,
      "outputs": [
        {
          "output_type": "stream",
          "name": "stdout",
          "text": [
            "tensor(2.7200e-15, grad_fn=<MseLossBackward0>)\n",
            "Parameter containing:\n",
            "tensor([[-0.0715,  0.1495, -0.0620,  0.2064, -0.1906,  0.2236, -0.0444,  0.0041,\n",
            "          0.0681, -0.2047],\n",
            "        [-0.0382,  0.2451,  0.2908, -0.2726,  0.3063, -0.0416, -0.1575, -0.0632,\n",
            "         -0.3150,  0.1104],\n",
            "        [-0.2896, -0.0153, -0.2063, -0.1356,  0.2928, -0.1415,  0.1258, -0.0429,\n",
            "          0.3079,  0.2389],\n",
            "        [ 0.2156, -0.1528, -0.2096,  0.0393, -0.1435,  0.2113,  0.1049,  0.1198,\n",
            "          0.1269, -0.0302],\n",
            "        [-0.1390,  0.0352,  0.2939, -0.1429, -0.1357, -0.2353, -0.1256, -0.1658,\n",
            "         -0.2420,  0.2477],\n",
            "        [ 0.2740, -0.0874, -0.0027,  0.3135, -0.1471,  0.0343, -0.2327, -0.1902,\n",
            "         -0.1650,  0.2325],\n",
            "        [-0.2210, -0.1358, -0.0356, -0.0188, -0.1438,  0.2951,  0.3014, -0.2974,\n",
            "          0.1871, -0.0410],\n",
            "        [-0.2673, -0.3015, -0.2341, -0.1557, -0.0394, -0.2808, -0.0226, -0.1529,\n",
            "          0.0394, -0.1901],\n",
            "        [ 0.2795, -0.2744,  0.1742, -0.2238,  0.1443, -0.3086,  0.0108,  0.2465,\n",
            "          0.0624, -0.2582],\n",
            "        [-0.2686, -0.3069, -0.0283, -0.0020,  0.2510,  0.0342,  0.3124,  0.2564,\n",
            "          0.1012,  0.0776]], requires_grad=True)\n",
            "Parameter containing:\n",
            "tensor([ 0.0093,  0.0476,  0.1227, -0.2029, -0.3139,  0.1330,  0.3042, -0.0862,\n",
            "         0.3033, -0.2190], requires_grad=True)\n",
            "Parameter containing:\n",
            "tensor([[-0.3095,  0.1067,  0.0448,  0.0340,  0.0794, -0.2971,  0.2016, -0.3155,\n",
            "         -0.1811, -0.0734],\n",
            "        [ 0.0245,  0.0990,  0.2329, -0.2166,  0.1861, -0.0721,  0.2119,  0.2428,\n",
            "         -0.2617, -0.1252],\n",
            "        [-0.1432,  0.0947,  0.2005, -0.3095,  0.2408,  0.0044, -0.2851, -0.2992,\n",
            "         -0.1089,  0.2846],\n",
            "        [ 0.2546, -0.0481, -0.2863,  0.1825, -0.2999, -0.2297, -0.2059,  0.0463,\n",
            "         -0.0074, -0.3060],\n",
            "        [-0.0364, -0.1793,  0.0886,  0.0758, -0.1565, -0.3015,  0.0157, -0.1046,\n",
            "          0.2468,  0.2227],\n",
            "        [-0.1154,  0.1684, -0.2333,  0.0608, -0.1668, -0.1771, -0.0025,  0.0674,\n",
            "         -0.0147,  0.0988],\n",
            "        [-0.1446,  0.1425,  0.2815,  0.0951, -0.0301,  0.2247, -0.2030, -0.0577,\n",
            "         -0.1537, -0.2029],\n",
            "        [ 0.1326, -0.1123, -0.2809,  0.2693,  0.0795,  0.0738,  0.0029,  0.2019,\n",
            "          0.2553,  0.0853]], requires_grad=True)\n",
            "Parameter containing:\n",
            "tensor([ 0.1521,  0.3073, -0.1067,  0.2388,  0.0683, -0.1745,  0.2244, -0.3027],\n",
            "       requires_grad=True)\n",
            "Parameter containing:\n",
            "tensor([[ 0.2611, -0.2176, -0.2062,  0.1847,  0.1038, -0.0317, -0.3048,  0.1979],\n",
            "        [-0.0590, -0.0417,  0.2298, -0.1449,  0.0011, -0.1132,  0.0829, -0.1120],\n",
            "        [-0.3309,  0.3082,  0.3199,  0.0480,  0.0980, -0.0249, -0.0936, -0.1117],\n",
            "        [-0.1463, -0.2115,  0.0762,  0.0539, -0.2533, -0.1861,  0.3319, -0.2384],\n",
            "        [ 0.0828, -0.2706,  0.0553, -0.1597,  0.3049,  0.2135, -0.3346, -0.1775],\n",
            "        [ 0.1880, -0.2207,  0.2250, -0.3092, -0.0439,  0.1157, -0.3488,  0.1685]],\n",
            "       requires_grad=True)\n",
            "Parameter containing:\n",
            "tensor([-0.2363,  0.2997,  0.0416,  0.2693,  0.1707,  0.2063],\n",
            "       requires_grad=True)\n",
            "Parameter containing:\n",
            "tensor([[ 0.3910, -0.3296,  0.0309, -0.0783,  0.2453, -0.0757]],\n",
            "       requires_grad=True)\n",
            "Parameter containing:\n",
            "tensor([0.1160], requires_grad=True)\n"
          ]
        }
      ]
    },
    {
      "cell_type": "code",
      "source": [],
      "metadata": {
        "id": "h60DRI_Fpd3x"
      },
      "execution_count": null,
      "outputs": []
    }
  ]
}