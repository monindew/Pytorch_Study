{
  "nbformat": 4,
  "nbformat_minor": 0,
  "metadata": {
    "colab": {
      "provenance": [],
      "authorship_tag": "ABX9TyMBWCi5FpkbHr5/CaamTW8O",
      "include_colab_link": true
    },
    "kernelspec": {
      "name": "python3",
      "display_name": "Python 3"
    },
    "language_info": {
      "name": "python"
    }
  },
  "cells": [
    {
      "cell_type": "markdown",
      "metadata": {
        "id": "view-in-github",
        "colab_type": "text"
      },
      "source": [
        "<a href=\"https://colab.research.google.com/github/monindew/Pytorch_Study/blob/main/20240807_2.ipynb\" target=\"_parent\"><img src=\"https://colab.research.google.com/assets/colab-badge.svg\" alt=\"Open In Colab\"/></a>"
      ]
    },
    {
      "cell_type": "code",
      "execution_count": 1,
      "metadata": {
        "colab": {
          "base_uri": "https://localhost:8080/"
        },
        "id": "y4OMMW4vSybS",
        "outputId": "9f8f4785-6ded-4558-86d6-5e939f11b367"
      },
      "outputs": [
        {
          "output_type": "stream",
          "name": "stdout",
          "text": [
            "tensor([[1., 2., 3.],\n",
            "        [4., 5., 6.]], dtype=torch.float64) torch.Size([2, 3])\n"
          ]
        }
      ],
      "source": [
        "import torch\n",
        "\n",
        "data1 = torch.DoubleTensor([[1, 2, 3], [4, 5, 6]])\n",
        "print(data1, data1.shape)"
      ]
    },
    {
      "cell_type": "code",
      "source": [
        "data1 = data1.reshape(3, 2)\n",
        "print(data1, data1.shape)"
      ],
      "metadata": {
        "colab": {
          "base_uri": "https://localhost:8080/"
        },
        "id": "nc9mJTv-TCvY",
        "outputId": "42a15e02-bbe4-4a03-db05-da285552cd27"
      },
      "execution_count": 2,
      "outputs": [
        {
          "output_type": "stream",
          "name": "stdout",
          "text": [
            "tensor([[1., 2.],\n",
            "        [3., 4.],\n",
            "        [5., 6.]], dtype=torch.float64) torch.Size([3, 2])\n"
          ]
        }
      ]
    },
    {
      "cell_type": "code",
      "source": [
        "data1 = data1.reshape(2, -1)\n",
        "print(data1, data1.shape)"
      ],
      "metadata": {
        "colab": {
          "base_uri": "https://localhost:8080/"
        },
        "id": "_4zWgejdTGUk",
        "outputId": "9241d843-93ec-4b91-91ae-12466bf1b91a"
      },
      "execution_count": 3,
      "outputs": [
        {
          "output_type": "stream",
          "name": "stdout",
          "text": [
            "tensor([[1., 2., 3.],\n",
            "        [4., 5., 6.]], dtype=torch.float64) torch.Size([2, 3])\n"
          ]
        }
      ]
    },
    {
      "cell_type": "code",
      "source": [
        "data1 = torch.DoubleTensor([\n",
        "    [[1, 2, 3],\n",
        "     [4, 5, 6]],\n",
        "    [[7, 8, 9],\n",
        "     [10, 11, 12]]\n",
        "])\n",
        "print(data1.shape, \"높이(k):\", data1.size(0), \"너비(n):\", data1.size(1), \"깊이(m):\", data1.size(2))"
      ],
      "metadata": {
        "colab": {
          "base_uri": "https://localhost:8080/"
        },
        "id": "v5nPctqRTJ0o",
        "outputId": "357f48af-3136-4216-b435-dca65c2492dc"
      },
      "execution_count": 4,
      "outputs": [
        {
          "output_type": "stream",
          "name": "stdout",
          "text": [
            "torch.Size([2, 2, 3]) 높이(k): 2 너비(n): 2 깊이(m): 3\n"
          ]
        }
      ]
    },
    {
      "cell_type": "code",
      "source": [
        "data1 = data1.view(2, -1)\n",
        "print(data1, data1.shape)\n",
        "\n",
        "data1 = data1.view(-1, 3)\n",
        "print(data1, data1.shape)\n",
        "\n",
        "data1 = data1.view(3, 2, -1)\n",
        "print(data1, data1.shape)"
      ],
      "metadata": {
        "colab": {
          "base_uri": "https://localhost:8080/"
        },
        "id": "OqtRsPHGT1j9",
        "outputId": "153ce423-28a5-4618-991d-ee0888f2cb6b"
      },
      "execution_count": 5,
      "outputs": [
        {
          "output_type": "stream",
          "name": "stdout",
          "text": [
            "tensor([[ 1.,  2.,  3.,  4.,  5.,  6.],\n",
            "        [ 7.,  8.,  9., 10., 11., 12.]], dtype=torch.float64) torch.Size([2, 6])\n",
            "tensor([[ 1.,  2.,  3.],\n",
            "        [ 4.,  5.,  6.],\n",
            "        [ 7.,  8.,  9.],\n",
            "        [10., 11., 12.]], dtype=torch.float64) torch.Size([4, 3])\n",
            "tensor([[[ 1.,  2.],\n",
            "         [ 3.,  4.]],\n",
            "\n",
            "        [[ 5.,  6.],\n",
            "         [ 7.,  8.]],\n",
            "\n",
            "        [[ 9., 10.],\n",
            "         [11., 12.]]], dtype=torch.float64) torch.Size([3, 2, 2])\n"
          ]
        }
      ]
    },
    {
      "cell_type": "code",
      "source": [
        "data1.squeeze()"
      ],
      "metadata": {
        "colab": {
          "base_uri": "https://localhost:8080/"
        },
        "id": "HVPE7EpWUJRX",
        "outputId": "f633eb72-2cae-4241-b99a-9599fb64df58"
      },
      "execution_count": 6,
      "outputs": [
        {
          "output_type": "execute_result",
          "data": {
            "text/plain": [
              "tensor([[[ 1.,  2.],\n",
              "         [ 3.,  4.]],\n",
              "\n",
              "        [[ 5.,  6.],\n",
              "         [ 7.,  8.]],\n",
              "\n",
              "        [[ 9., 10.],\n",
              "         [11., 12.]]], dtype=torch.float64)"
            ]
          },
          "metadata": {},
          "execution_count": 6
        }
      ]
    },
    {
      "cell_type": "code",
      "source": [
        "data1 = torch.FloatTensor([[1], [2], [3]])\n",
        "data2 = data1.squeeze()\n",
        "print(data1, data1.dim(), data1.shape)\n",
        "print(data2, data2.dim(), data2.shape)"
      ],
      "metadata": {
        "colab": {
          "base_uri": "https://localhost:8080/"
        },
        "id": "jpMVFGrMUes1",
        "outputId": "2348f411-33e3-4c3e-b50f-346fe149d122"
      },
      "execution_count": 7,
      "outputs": [
        {
          "output_type": "stream",
          "name": "stdout",
          "text": [
            "tensor([[1.],\n",
            "        [2.],\n",
            "        [3.]]) 2 torch.Size([3, 1])\n",
            "tensor([1., 2., 3.]) 1 torch.Size([3])\n"
          ]
        }
      ]
    },
    {
      "cell_type": "code",
      "source": [
        "data1 = torch.FloatTensor([ [1, 2, 3], [4, 5, 6] ])\n",
        "print(data1, data1.dim(), data1.shape)"
      ],
      "metadata": {
        "colab": {
          "base_uri": "https://localhost:8080/"
        },
        "id": "_ynZiexaU7Ps",
        "outputId": "43cbc8d0-06df-4ad8-dfdc-06ffdebd03a5"
      },
      "execution_count": 8,
      "outputs": [
        {
          "output_type": "stream",
          "name": "stdout",
          "text": [
            "tensor([[1., 2., 3.],\n",
            "        [4., 5., 6.]]) 2 torch.Size([2, 3])\n"
          ]
        }
      ]
    },
    {
      "cell_type": "code",
      "source": [
        "data2 = data1.unsqueeze(0)\n",
        "data3 = data1.unsqueeze(1)\n",
        "print(data2, data2.dim(), data2.shape)\n",
        "print(data3, data3.dim(), data3.shape)"
      ],
      "metadata": {
        "colab": {
          "base_uri": "https://localhost:8080/"
        },
        "id": "-lhLXLkWV90u",
        "outputId": "4121839b-e0c4-4716-baa6-3d89a1b96dec"
      },
      "execution_count": 9,
      "outputs": [
        {
          "output_type": "stream",
          "name": "stdout",
          "text": [
            "tensor([[[1., 2., 3.],\n",
            "         [4., 5., 6.]]]) 3 torch.Size([1, 2, 3])\n",
            "tensor([[[1., 2., 3.]],\n",
            "\n",
            "        [[4., 5., 6.]]]) 3 torch.Size([2, 1, 3])\n"
          ]
        }
      ]
    },
    {
      "cell_type": "code",
      "source": [
        "data1 = torch.zeros(2, dtype=torch.float)\n",
        "data2 = torch.ones(2, 4, dtype=torch.double)\n",
        "data3 = torch.rand(2, 2, 3, dtype=torch.half)\n",
        "print(data1.dtype, data2.dtype, data3.dtype)\n",
        "\n",
        "data1 = data1.type(torch.float32)\n",
        "data2 = data2.type(torch.int)\n",
        "data3 = data3.type(torch.double)\n",
        "print(data1.dtype, data2.dtype, data3.dtype)"
      ],
      "metadata": {
        "colab": {
          "base_uri": "https://localhost:8080/"
        },
        "id": "FFQLNtCzWE8J",
        "outputId": "38e34579-3969-4965-a6b7-6a3e3909a268"
      },
      "execution_count": 10,
      "outputs": [
        {
          "output_type": "stream",
          "name": "stdout",
          "text": [
            "torch.float32 torch.float64 torch.float16\n",
            "torch.float32 torch.int32 torch.float64\n"
          ]
        }
      ]
    },
    {
      "cell_type": "code",
      "source": [
        "print(data2)\n",
        "data2 = data2.T\n",
        "print(data2)"
      ],
      "metadata": {
        "colab": {
          "base_uri": "https://localhost:8080/"
        },
        "id": "6VZS7smhXiGh",
        "outputId": "91a73b0e-b80b-4034-da85-43c250a0407d"
      },
      "execution_count": 11,
      "outputs": [
        {
          "output_type": "stream",
          "name": "stdout",
          "text": [
            "tensor([[1, 1, 1, 1],\n",
            "        [1, 1, 1, 1]], dtype=torch.int32)\n",
            "tensor([[1, 1],\n",
            "        [1, 1],\n",
            "        [1, 1],\n",
            "        [1, 1]], dtype=torch.int32)\n"
          ]
        }
      ]
    },
    {
      "cell_type": "code",
      "source": [
        "import numpy as np\n",
        "data1 = np.array([[1, 2], [3, 4]])\n",
        "print(data1, type(data1))\n",
        "data2 = torch.from_numpy(data1)\n",
        "print(data2, type(data2))\n",
        "data3 = data2.numpy()\n",
        "print(data3, type(data3))"
      ],
      "metadata": {
        "colab": {
          "base_uri": "https://localhost:8080/"
        },
        "id": "xVchyUkhX3s8",
        "outputId": "a7820336-4cb4-4bac-8e84-20dd258683fb"
      },
      "execution_count": 12,
      "outputs": [
        {
          "output_type": "stream",
          "name": "stdout",
          "text": [
            "[[1 2]\n",
            " [3 4]] <class 'numpy.ndarray'>\n",
            "tensor([[1, 2],\n",
            "        [3, 4]]) <class 'torch.Tensor'>\n",
            "[[1 2]\n",
            " [3 4]] <class 'numpy.ndarray'>\n"
          ]
        }
      ]
    },
    {
      "cell_type": "code",
      "source": [
        "torch.arange(5)"
      ],
      "metadata": {
        "colab": {
          "base_uri": "https://localhost:8080/"
        },
        "id": "MUa9RFw2YRud",
        "outputId": "4c42db9b-4b51-43ea-83e2-783aa306a33f"
      },
      "execution_count": 13,
      "outputs": [
        {
          "output_type": "execute_result",
          "data": {
            "text/plain": [
              "tensor([0, 1, 2, 3, 4])"
            ]
          },
          "metadata": {},
          "execution_count": 13
        }
      ]
    },
    {
      "cell_type": "code",
      "source": [
        "torch.arange(1, 5)"
      ],
      "metadata": {
        "colab": {
          "base_uri": "https://localhost:8080/"
        },
        "id": "BeVdVWcVYgCx",
        "outputId": "b5ddd1f3-46e6-47cd-8124-ac31248b17ca"
      },
      "execution_count": 14,
      "outputs": [
        {
          "output_type": "execute_result",
          "data": {
            "text/plain": [
              "tensor([1, 2, 3, 4])"
            ]
          },
          "metadata": {},
          "execution_count": 14
        }
      ]
    },
    {
      "cell_type": "code",
      "source": [
        "torch.arange(1, 5, 2)"
      ],
      "metadata": {
        "colab": {
          "base_uri": "https://localhost:8080/"
        },
        "id": "w1VScwvjYh5R",
        "outputId": "8e8cdd0d-fb19-4736-b06f-3c83f8e90ed1"
      },
      "execution_count": 15,
      "outputs": [
        {
          "output_type": "execute_result",
          "data": {
            "text/plain": [
              "tensor([1, 3])"
            ]
          },
          "metadata": {},
          "execution_count": 15
        }
      ]
    },
    {
      "cell_type": "code",
      "source": [
        "torch.linspace(1, 5, 4)"
      ],
      "metadata": {
        "colab": {
          "base_uri": "https://localhost:8080/"
        },
        "id": "CgxbIYJmYkNn",
        "outputId": "0d0413ff-4ba1-4099-8cbf-8f7bacdaa24a"
      },
      "execution_count": 16,
      "outputs": [
        {
          "output_type": "execute_result",
          "data": {
            "text/plain": [
              "tensor([1.0000, 2.3333, 3.6667, 5.0000])"
            ]
          },
          "metadata": {},
          "execution_count": 16
        }
      ]
    },
    {
      "cell_type": "code",
      "source": [
        "torch.linspace(1, 5, 10)"
      ],
      "metadata": {
        "colab": {
          "base_uri": "https://localhost:8080/"
        },
        "id": "A5fLdo95Y0yU",
        "outputId": "7e004ec0-99a1-47d2-a445-ab156fc58e1b"
      },
      "execution_count": 17,
      "outputs": [
        {
          "output_type": "execute_result",
          "data": {
            "text/plain": [
              "tensor([1.0000, 1.4444, 1.8889, 2.3333, 2.7778, 3.2222, 3.6667, 4.1111, 4.5556,\n",
              "        5.0000])"
            ]
          },
          "metadata": {},
          "execution_count": 17
        }
      ]
    },
    {
      "cell_type": "code",
      "source": [
        "data1 = torch.full((3, 3), 2)\n",
        "data2 = torch.full((3, 3), 1)\n",
        "print(data1 + data2)\n",
        "print(data1 - data2)\n",
        "print(data1 * data2)\n",
        "print(data1 / data2)"
      ],
      "metadata": {
        "colab": {
          "base_uri": "https://localhost:8080/"
        },
        "id": "HtK2EKBIabK0",
        "outputId": "06bd8c04-255b-4b8e-c0ed-56cce7b30a36"
      },
      "execution_count": 20,
      "outputs": [
        {
          "output_type": "stream",
          "name": "stdout",
          "text": [
            "tensor([[3, 3, 3],\n",
            "        [3, 3, 3],\n",
            "        [3, 3, 3]])\n",
            "tensor([[1, 1, 1],\n",
            "        [1, 1, 1],\n",
            "        [1, 1, 1]])\n",
            "tensor([[2, 2, 2],\n",
            "        [2, 2, 2],\n",
            "        [2, 2, 2]])\n",
            "tensor([[2., 2., 2.],\n",
            "        [2., 2., 2.],\n",
            "        [2., 2., 2.]])\n"
          ]
        }
      ]
    },
    {
      "cell_type": "code",
      "source": [
        "data1 = torch.full((3, 2), 2)\n",
        "data2 = torch.full((2, 3), 1)\n",
        "torch.matmul(data1, data2)"
      ],
      "metadata": {
        "colab": {
          "base_uri": "https://localhost:8080/"
        },
        "id": "UASHJRVdZZRx",
        "outputId": "618ccf86-d0df-4e1d-9dfd-dbe9709ea8cc"
      },
      "execution_count": 18,
      "outputs": [
        {
          "output_type": "execute_result",
          "data": {
            "text/plain": [
              "tensor([[4, 4, 4],\n",
              "        [4, 4, 4],\n",
              "        [4, 4, 4]])"
            ]
          },
          "metadata": {},
          "execution_count": 18
        }
      ]
    },
    {
      "cell_type": "code",
      "source": [
        "data1 = torch.FloatTensor([ [1], [2], [3]])\n",
        "data2 = torch.FloatTensor([1, 1, 1])\n",
        "data3 = data1 + data2\n",
        "print(data1.shape, data2.shape, data3.shape)\n",
        "print(data3)"
      ],
      "metadata": {
        "colab": {
          "base_uri": "https://localhost:8080/"
        },
        "id": "pbGq_Q_YaRED",
        "outputId": "4f2f4799-aa70-48e8-f6a9-2614c1a8f27d"
      },
      "execution_count": 21,
      "outputs": [
        {
          "output_type": "stream",
          "name": "stdout",
          "text": [
            "torch.Size([3, 1]) torch.Size([3]) torch.Size([3, 3])\n",
            "tensor([[2., 2., 2.],\n",
            "        [3., 3., 3.],\n",
            "        [4., 4., 4.]])\n"
          ]
        }
      ]
    },
    {
      "cell_type": "code",
      "source": [
        "data1 = torch.FloatTensor(10, 20, 4)\n",
        "data2 = torch.FloatTensor(20, 4)\n",
        "data3 = data1 + data2\n",
        "print(data1.shape, data2.shape, data3.shape)"
      ],
      "metadata": {
        "colab": {
          "base_uri": "https://localhost:8080/"
        },
        "id": "9zL1gMm-cFPR",
        "outputId": "1df738c5-b191-4ff7-f4b2-86a7e68838b6"
      },
      "execution_count": 22,
      "outputs": [
        {
          "output_type": "stream",
          "name": "stdout",
          "text": [
            "torch.Size([10, 20, 4]) torch.Size([20, 4]) torch.Size([10, 20, 4])\n"
          ]
        }
      ]
    },
    {
      "cell_type": "code",
      "source": [
        "data1 = torch.FloatTensor(10, 20, 4)\n",
        "data2 = torch.FloatTensor(20, 4)\n",
        "data3 = data1 + data2\n",
        "print(data1.shape, data2.shape, data3.shape)"
      ],
      "metadata": {
        "colab": {
          "base_uri": "https://localhost:8080/"
        },
        "id": "J3EJq__oc89M",
        "outputId": "ab205842-4e82-4d42-86fa-e524416d7bb0"
      },
      "execution_count": 23,
      "outputs": [
        {
          "output_type": "stream",
          "name": "stdout",
          "text": [
            "torch.Size([10, 20, 4]) torch.Size([20, 4]) torch.Size([10, 20, 4])\n"
          ]
        }
      ]
    },
    {
      "cell_type": "code",
      "source": [
        "data1 = torch.FloatTensor(5)\n",
        "data2 = torch.FloatTensor(10, 10, 1)\n",
        "data3 = data1 + data2\n",
        "print(data1.shape, data2.shape, data3.shape)"
      ],
      "metadata": {
        "colab": {
          "base_uri": "https://localhost:8080/"
        },
        "id": "8XRl7RwzdTIz",
        "outputId": "a29dc798-7ac1-4548-f771-9523710291cf"
      },
      "execution_count": 24,
      "outputs": [
        {
          "output_type": "stream",
          "name": "stdout",
          "text": [
            "torch.Size([5]) torch.Size([10, 10, 1]) torch.Size([10, 10, 5])\n"
          ]
        }
      ]
    },
    {
      "cell_type": "code",
      "source": [
        "data3 = torch.FloatTensor([ [1, 2, 3], [4, 5, 6]])\n",
        "print(data3)\n",
        "print(data3[1, 1])\n",
        "print(data3[:, 1])\n",
        "print(data3[:, :])\n",
        "print(data3[:1, :2])"
      ],
      "metadata": {
        "colab": {
          "base_uri": "https://localhost:8080/"
        },
        "id": "SI10XtB7eyup",
        "outputId": "4139dee8-a784-4938-ff88-f996fe9554d7"
      },
      "execution_count": 25,
      "outputs": [
        {
          "output_type": "stream",
          "name": "stdout",
          "text": [
            "tensor([[1., 2., 3.],\n",
            "        [4., 5., 6.]])\n",
            "tensor(5.)\n",
            "tensor([2., 5.])\n",
            "tensor([[1., 2., 3.],\n",
            "        [4., 5., 6.]])\n",
            "tensor([[1., 2.]])\n"
          ]
        }
      ]
    },
    {
      "cell_type": "code",
      "source": [
        "data1 = torch.FloatTensor([[1, 2, 3], [5, 5, 5]])\n",
        "data2 = data1 > 3\n",
        "print(data2)\n",
        "print(data1[data2])\n",
        "print(data1[(data1>3) & (data1 < 6)])"
      ],
      "metadata": {
        "colab": {
          "base_uri": "https://localhost:8080/"
        },
        "id": "WsGlqLJKfbVl",
        "outputId": "18488f43-5735-402b-d8c7-eca0a0bf0fc9"
      },
      "execution_count": 30,
      "outputs": [
        {
          "output_type": "stream",
          "name": "stdout",
          "text": [
            "tensor([[False, False, False],\n",
            "        [ True,  True,  True]])\n",
            "tensor([5., 5., 5.])\n",
            "tensor([5., 5., 5.])\n"
          ]
        }
      ]
    },
    {
      "cell_type": "code",
      "source": [
        "data1 = torch.randn(4,3)\n",
        "data1"
      ],
      "metadata": {
        "colab": {
          "base_uri": "https://localhost:8080/"
        },
        "id": "O1pWZ8IkgPYK",
        "outputId": "eb91d0ef-7e23-481e-8f26-54b5397e6e2d"
      },
      "execution_count": 31,
      "outputs": [
        {
          "output_type": "execute_result",
          "data": {
            "text/plain": [
              "tensor([[-0.6773, -1.9328,  0.2623],\n",
              "        [-0.0669, -0.0459, -0.8913],\n",
              "        [ 0.7378,  0.1086,  0.1719],\n",
              "        [ 1.0020, -1.1846,  0.0770]])"
            ]
          },
          "metadata": {},
          "execution_count": 31
        }
      ]
    },
    {
      "cell_type": "code",
      "source": [
        "print(data1[[1, 2, 0]])\n",
        "print(data1[ [1, -1]])"
      ],
      "metadata": {
        "colab": {
          "base_uri": "https://localhost:8080/"
        },
        "id": "9JeNO7aSgxw_",
        "outputId": "0fc4c77e-efe6-475b-dd9d-62b448fc1def"
      },
      "execution_count": 34,
      "outputs": [
        {
          "output_type": "stream",
          "name": "stdout",
          "text": [
            "tensor([[-0.0669, -0.0459, -0.8913],\n",
            "        [ 0.7378,  0.1086,  0.1719],\n",
            "        [-0.6773, -1.9328,  0.2623]])\n",
            "tensor([[-0.0669, -0.0459, -0.8913],\n",
            "        [ 1.0020, -1.1846,  0.0770]])\n"
          ]
        }
      ]
    },
    {
      "cell_type": "code",
      "source": [
        "print(data1[[1,2]][:, [0,2]])\n",
        "print(data1[[1,-1]][:, [0]])"
      ],
      "metadata": {
        "colab": {
          "base_uri": "https://localhost:8080/"
        },
        "id": "71S9EuPTg18s",
        "outputId": "ffe14fbc-c834-49ed-c3a3-84cada42b376"
      },
      "execution_count": 35,
      "outputs": [
        {
          "output_type": "stream",
          "name": "stdout",
          "text": [
            "tensor([[-0.0669, -0.8913],\n",
            "        [ 0.7378,  0.1719]])\n",
            "tensor([[-0.0669],\n",
            "        [ 1.0020]])\n"
          ]
        }
      ]
    },
    {
      "cell_type": "code",
      "source": [
        "data1 = torch.FloatTensor([ [1, 2, 3], [4, 5, 6]])\n",
        "print(data1)\n",
        "data2 = data1[:2, :2]\n",
        "print(data2)"
      ],
      "metadata": {
        "colab": {
          "base_uri": "https://localhost:8080/"
        },
        "id": "irVC1JoJhfwt",
        "outputId": "2ae8ed3a-6de7-4c3c-cb63-86c8bd8f3f20"
      },
      "execution_count": 36,
      "outputs": [
        {
          "output_type": "stream",
          "name": "stdout",
          "text": [
            "tensor([[1., 2., 3.],\n",
            "        [4., 5., 6.]])\n",
            "tensor([[1., 2.],\n",
            "        [4., 5.]])\n"
          ]
        }
      ]
    },
    {
      "cell_type": "code",
      "source": [
        "data2[1, 1] = 4\n",
        "print(data2)\n",
        "print(data1)"
      ],
      "metadata": {
        "colab": {
          "base_uri": "https://localhost:8080/"
        },
        "id": "HK2_YCl1iuM-",
        "outputId": "5147b967-2946-45b9-f95c-f486894fa37e"
      },
      "execution_count": 37,
      "outputs": [
        {
          "output_type": "stream",
          "name": "stdout",
          "text": [
            "tensor([[1., 2.],\n",
            "        [4., 4.]])\n",
            "tensor([[1., 2., 3.],\n",
            "        [4., 4., 6.]])\n"
          ]
        }
      ]
    },
    {
      "cell_type": "code",
      "source": [
        "data1 = torch.FloatTensor([ [1, 2, 3], [4, 5, 6]])\n",
        "print(data1)\n",
        "data2 = data1[:2, :2].clone().detach()\n",
        "print(data2)\n",
        "data2[1, 1] = 4\n",
        "print(data2)\n",
        "print(data1)"
      ],
      "metadata": {
        "colab": {
          "base_uri": "https://localhost:8080/"
        },
        "id": "XGli-f-Si4AO",
        "outputId": "855839f0-bfc8-49df-c266-29546eb24e4d"
      },
      "execution_count": 38,
      "outputs": [
        {
          "output_type": "stream",
          "name": "stdout",
          "text": [
            "tensor([[1., 2., 3.],\n",
            "        [4., 5., 6.]])\n",
            "tensor([[1., 2.],\n",
            "        [4., 5.]])\n",
            "tensor([[1., 2.],\n",
            "        [4., 4.]])\n",
            "tensor([[1., 2., 3.],\n",
            "        [4., 5., 6.]])\n"
          ]
        }
      ]
    },
    {
      "cell_type": "code",
      "source": [
        "data1 = torch.FloatTensor([7, 2, 0, 4, 1])\n",
        "index = torch.where(data1 < 3)\n",
        "print(index)\n",
        "print(data1[index])"
      ],
      "metadata": {
        "colab": {
          "base_uri": "https://localhost:8080/"
        },
        "id": "cE-7MOtPjYu2",
        "outputId": "3d5734b7-c829-40fb-e220-461277a59cc5"
      },
      "execution_count": 39,
      "outputs": [
        {
          "output_type": "stream",
          "name": "stdout",
          "text": [
            "(tensor([1, 2, 4]),)\n",
            "tensor([2., 0., 1.])\n"
          ]
        }
      ]
    },
    {
      "cell_type": "code",
      "source": [
        "print(data1)\n",
        "data2 = torch.where(data1 < 3, -1, 1)\n",
        "print(data2)"
      ],
      "metadata": {
        "colab": {
          "base_uri": "https://localhost:8080/"
        },
        "id": "7lPFeG_Tm5UR",
        "outputId": "867b87f5-afcc-4629-e803-ec8e95094451"
      },
      "execution_count": 40,
      "outputs": [
        {
          "output_type": "stream",
          "name": "stdout",
          "text": [
            "tensor([7., 2., 0., 4., 1.])\n",
            "tensor([ 1, -1, -1,  1, -1])\n"
          ]
        }
      ]
    },
    {
      "cell_type": "code",
      "source": [
        "data1 = torch.FloatTensor([ [1, 2, 3], [4, 5, 6]])\n",
        "data2 = torch.where(data1 < 3, -1, 1)\n",
        "print(data2)"
      ],
      "metadata": {
        "colab": {
          "base_uri": "https://localhost:8080/"
        },
        "id": "MCGGN2ZBn_HW",
        "outputId": "f2ac556b-1bee-4ae9-d556-a667ffe8ed88"
      },
      "execution_count": 41,
      "outputs": [
        {
          "output_type": "stream",
          "name": "stdout",
          "text": [
            "tensor([[-1, -1,  1],\n",
            "        [ 1,  1,  1]])\n"
          ]
        }
      ]
    },
    {
      "cell_type": "code",
      "source": [
        "data1 = torch.FloatTensor([ [1, 2, 3], [4, 5, 6]])\n",
        "print(data1.min())\n",
        "print(data1.max())\n",
        "print(data1.sum())\n",
        "print(data1.mean())\n",
        "print(data1.var())\n",
        "print(data1.std())\n",
        "print(data1.argmin())\n",
        "print(data1.argmax())"
      ],
      "metadata": {
        "colab": {
          "base_uri": "https://localhost:8080/"
        },
        "id": "ZQHUAMG1ojYZ",
        "outputId": "51cd6ec7-7737-42db-c578-11cf00b2a6e3"
      },
      "execution_count": 42,
      "outputs": [
        {
          "output_type": "stream",
          "name": "stdout",
          "text": [
            "tensor(1.)\n",
            "tensor(6.)\n",
            "tensor(21.)\n",
            "tensor(3.5000)\n",
            "tensor(3.5000)\n",
            "tensor(1.8708)\n",
            "tensor(0)\n",
            "tensor(5)\n"
          ]
        }
      ]
    },
    {
      "cell_type": "code",
      "source": [
        "data1 = torch.linspace(1, 5, 4)\n",
        "print(data1)\n",
        "torch.save(data1, \"mydata1.pt\")"
      ],
      "metadata": {
        "colab": {
          "base_uri": "https://localhost:8080/"
        },
        "id": "Yvw3ieopo7Gf",
        "outputId": "60b77542-1931-494e-c2e1-c274d6b8498e"
      },
      "execution_count": 43,
      "outputs": [
        {
          "output_type": "stream",
          "name": "stdout",
          "text": [
            "tensor([1.0000, 2.3333, 3.6667, 5.0000])\n"
          ]
        }
      ]
    },
    {
      "cell_type": "code",
      "source": [
        "data2 = torch.load(\"mydata1.pt\")\n",
        "print(data2)"
      ],
      "metadata": {
        "colab": {
          "base_uri": "https://localhost:8080/"
        },
        "id": "UjMJ1s6xpWvZ",
        "outputId": "201fba73-b98d-44f8-a842-94ed646f8479"
      },
      "execution_count": 44,
      "outputs": [
        {
          "output_type": "stream",
          "name": "stdout",
          "text": [
            "tensor([1.0000, 2.3333, 3.6667, 5.0000])\n"
          ]
        }
      ]
    },
    {
      "cell_type": "code",
      "source": [
        "data1 = torch.linspace(1, 5, 4)\n",
        "data2 = torch.linspace(1, 10, 4)\n",
        "data3 = torch.linspace(1, 100, 4)\n",
        "print(data1)\n",
        "print(data2)\n",
        "print(data3)\n",
        "datas = {'data1': data1, 'data2': data2, 'data3': data3}\n",
        "torch.save(datas, \"mydata1.pt\")"
      ],
      "metadata": {
        "colab": {
          "base_uri": "https://localhost:8080/"
        },
        "id": "c8n9N17upbuG",
        "outputId": "cfc70761-ca8d-4a91-e9ce-2e8dd51593d7"
      },
      "execution_count": 46,
      "outputs": [
        {
          "output_type": "stream",
          "name": "stdout",
          "text": [
            "tensor([1.0000, 2.3333, 3.6667, 5.0000])\n",
            "tensor([ 1.,  4.,  7., 10.])\n",
            "tensor([  1.,  34.,  67., 100.])\n"
          ]
        }
      ]
    },
    {
      "cell_type": "code",
      "source": [
        "datas = torch.load('mydata1.pt')\n",
        "print(datas['data1'])\n",
        "print(datas['data2'])\n",
        "print(datas['data3'])"
      ],
      "metadata": {
        "colab": {
          "base_uri": "https://localhost:8080/"
        },
        "id": "B8VU4mjSptWk",
        "outputId": "dfb4133b-7d46-4939-9daf-4f89e64e4f1e"
      },
      "execution_count": 47,
      "outputs": [
        {
          "output_type": "stream",
          "name": "stdout",
          "text": [
            "tensor([1.0000, 2.3333, 3.6667, 5.0000])\n",
            "tensor([ 1.,  4.,  7., 10.])\n",
            "tensor([  1.,  34.,  67., 100.])\n"
          ]
        }
      ]
    }
  ]
}