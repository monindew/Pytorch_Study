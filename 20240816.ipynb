{
  "nbformat": 4,
  "nbformat_minor": 0,
  "metadata": {
    "colab": {
      "provenance": [],
      "authorship_tag": "ABX9TyN8mT5ujOsOpikB8OcQaRSI",
      "include_colab_link": true
    },
    "kernelspec": {
      "name": "python3",
      "display_name": "Python 3"
    },
    "language_info": {
      "name": "python"
    }
  },
  "cells": [
    {
      "cell_type": "markdown",
      "metadata": {
        "id": "view-in-github",
        "colab_type": "text"
      },
      "source": [
        "<a href=\"https://colab.research.google.com/github/monindew/Pytorch_Study/blob/main/20240816.ipynb\" target=\"_parent\"><img src=\"https://colab.research.google.com/assets/colab-badge.svg\" alt=\"Open In Colab\"/></a>"
      ]
    },
    {
      "cell_type": "code",
      "execution_count": 15,
      "metadata": {
        "id": "pyxeVUj8ydB-"
      },
      "outputs": [],
      "source": [
        "import torch\n",
        "import torch.nn as nn\n",
        "\n",
        "class LinearRegressionModel(nn.Module):\n",
        "  def __init__(self, input_dim, output_dim):\n",
        "    super().__init__()\n",
        "    self.linear = nn.Linear(in_features=input_dim, out_features=output_dim)\n",
        "    # self.activation = nn.Sigmoid()\n",
        "    # self.activation = nn.ReLU()\n",
        "    self.activation = nn.LeakyReLU(0.1)\n",
        "\n",
        "  def forward(self, x):\n",
        "    return self.activation(self.linear(x))"
      ]
    },
    {
      "cell_type": "code",
      "source": [
        "x = torch.ones(4)\n",
        "y = torch.zeros(3)\n",
        "model = LinearRegressionModel(4, 3)\n",
        "loss_function = nn.MSELoss()"
      ],
      "metadata": {
        "id": "jeFGS19sxOoI"
      },
      "execution_count": 16,
      "outputs": []
    },
    {
      "cell_type": "code",
      "source": [
        "learning_rate = 0.01\n",
        "nb_epochs = 1000\n",
        "optimizer = torch.optim.SGD(model.parameters(), lr=learning_rate)\n",
        "\n",
        "for epoch in range(nb_epochs + 1):\n",
        "  y_pred = model(x)\n",
        "  loss = loss_function(y_pred, y)\n",
        "  optimizer.zero_grad()\n",
        "  loss.backward()\n",
        "  optimizer.step()"
      ],
      "metadata": {
        "id": "lkwmLfT4xeY_"
      },
      "execution_count": 17,
      "outputs": []
    },
    {
      "cell_type": "code",
      "source": [
        "print(loss)\n",
        "for param in model.parameters():\n",
        "  print(param)"
      ],
      "metadata": {
        "colab": {
          "base_uri": "https://localhost:8080/"
        },
        "id": "7ph1zJTSxtIi",
        "outputId": "e06fa485-9dce-484e-d163-ff4c049f13c5"
      },
      "execution_count": 18,
      "outputs": [
        {
          "output_type": "stream",
          "name": "stdout",
          "text": [
            "tensor(0.0005, grad_fn=<MseLossBackward0>)\n",
            "Parameter containing:\n",
            "tensor([[ 0.1208,  0.4079, -0.4643, -0.4538],\n",
            "        [-0.0741,  0.0822, -0.0110, -0.2924],\n",
            "        [-0.1870,  0.5035, -0.3656, -0.1767]], requires_grad=True)\n",
            "Parameter containing:\n",
            "tensor([ 0.3894,  0.2954, -0.1669], requires_grad=True)\n"
          ]
        }
      ]
    },
    {
      "cell_type": "code",
      "source": [
        "class LinearRegressionModel(nn.Module):\n",
        "  def __init__(self, input_dim, output_dim):\n",
        "    super().__init__()\n",
        "    self.linear1 = nn.Linear(input_dim, 10)\n",
        "    self.linear2 = nn.Linear(10, 10)\n",
        "    self.linear3 = nn.Linear(10, 10)\n",
        "    self.linear4 = nn.Linear(10, output_dim)\n",
        "    self.activation = nn.LeakyReLU(0.1)\n",
        "\n",
        "  def forward(self, x):\n",
        "    hidden = self.activation(self.linear1(x))\n",
        "    hidden = self.activation(self.linear2(hidden))\n",
        "    hidden = self.activation(self.linear3(hidden))\n",
        "    y = self.linear4(hidden)\n",
        "    return y"
      ],
      "metadata": {
        "id": "O365YEA3x1Sc"
      },
      "execution_count": 23,
      "outputs": []
    },
    {
      "cell_type": "code",
      "source": [
        "x = torch.ones(4)\n",
        "y = torch.zeros(3)\n",
        "model = LinearRegressionModel(4, 3)\n",
        "loss_function = nn.MSELoss()"
      ],
      "metadata": {
        "id": "vQUPtl6q4FZP"
      },
      "execution_count": 24,
      "outputs": []
    },
    {
      "cell_type": "code",
      "source": [
        "learning_rate = 0.01\n",
        "nb_epochs = 1000\n",
        "optimizer = torch.optim.SGD(model.parameters(), lr=learning_rate)\n",
        "\n",
        "for epoch in range(nb_epochs + 1):\n",
        "  y_pred = model(x)\n",
        "  loss = loss_function(y_pred, y)\n",
        "  optimizer.zero_grad()\n",
        "  loss.backward()\n",
        "  optimizer.step()"
      ],
      "metadata": {
        "id": "1Woid5Sv4LhJ"
      },
      "execution_count": 25,
      "outputs": []
    },
    {
      "cell_type": "code",
      "source": [
        "print(loss)\n",
        "for param in model.parameters():\n",
        "  print(param)"
      ],
      "metadata": {
        "colab": {
          "base_uri": "https://localhost:8080/"
        },
        "id": "4OynWCgE4OV8",
        "outputId": "07d86aaa-e0aa-439d-c004-9be4a56e7f84"
      },
      "execution_count": 26,
      "outputs": [
        {
          "output_type": "stream",
          "name": "stdout",
          "text": [
            "tensor(6.5640e-08, grad_fn=<MseLossBackward0>)\n",
            "Parameter containing:\n",
            "tensor([[-0.1103,  0.3809,  0.2399,  0.0599],\n",
            "        [ 0.3297,  0.1833,  0.1622,  0.0975],\n",
            "        [-0.4920, -0.1018,  0.2924, -0.3750],\n",
            "        [ 0.0945, -0.1224,  0.3234, -0.4144],\n",
            "        [-0.1245,  0.0801, -0.0578,  0.3443],\n",
            "        [ 0.1985,  0.2120,  0.4401,  0.1760],\n",
            "        [-0.1715, -0.4869,  0.3893, -0.4574],\n",
            "        [ 0.2987, -0.4505,  0.3837,  0.1097],\n",
            "        [-0.2493,  0.2672,  0.0092,  0.4059],\n",
            "        [-0.3651,  0.3317,  0.3448,  0.3477]], requires_grad=True)\n",
            "Parameter containing:\n",
            "tensor([ 0.0609,  0.2570, -0.4667, -0.3494,  0.0826,  0.0123,  0.0736,  0.0335,\n",
            "         0.2990,  0.3014], requires_grad=True)\n",
            "Parameter containing:\n",
            "tensor([[ 0.1116, -0.1165, -0.2237,  0.1882, -0.1025, -0.1524,  0.2193,  0.1979,\n",
            "         -0.2022,  0.0684],\n",
            "        [-0.1293,  0.0976,  0.2462,  0.1527, -0.2292,  0.1244,  0.0277, -0.2433,\n",
            "          0.1581, -0.0670],\n",
            "        [-0.1676,  0.2462, -0.0030, -0.0803,  0.0476, -0.1608,  0.0527,  0.0700,\n",
            "          0.0344, -0.2443],\n",
            "        [-0.2933,  0.2701, -0.1068,  0.1095, -0.2190, -0.2274, -0.1655, -0.2409,\n",
            "         -0.0635,  0.2579],\n",
            "        [-0.0472,  0.1426,  0.2809, -0.1895, -0.1628, -0.0728, -0.1295, -0.0371,\n",
            "          0.2435,  0.1865],\n",
            "        [-0.2437, -0.0430,  0.0211,  0.1530, -0.2033, -0.1042,  0.3029,  0.0180,\n",
            "         -0.2613, -0.1939],\n",
            "        [-0.0191, -0.0342,  0.1341,  0.2591,  0.0205, -0.0106,  0.2575,  0.3072,\n",
            "         -0.2395,  0.0841],\n",
            "        [ 0.2071,  0.2898,  0.1296, -0.2172,  0.0813,  0.1284, -0.1419, -0.0468,\n",
            "         -0.2236,  0.2645],\n",
            "        [ 0.2229, -0.0985,  0.1430, -0.0764,  0.0939, -0.2963,  0.0537,  0.3118,\n",
            "          0.0311,  0.2289],\n",
            "        [-0.1613, -0.0466, -0.3046, -0.3019,  0.0735, -0.2153, -0.3111, -0.2716,\n",
            "          0.1322,  0.0173]], requires_grad=True)\n",
            "Parameter containing:\n",
            "tensor([ 0.0267,  0.1106, -0.0243,  0.0589,  0.2830,  0.0588,  0.0740,  0.1633,\n",
            "        -0.1954, -0.0174], requires_grad=True)\n",
            "Parameter containing:\n",
            "tensor([[ 0.1789, -0.2230, -0.0435,  0.1771, -0.2391,  0.2226,  0.0741, -0.0599,\n",
            "         -0.2915,  0.1336],\n",
            "        [-0.2164,  0.1449, -0.1917,  0.2084,  0.0029,  0.2613, -0.0609, -0.1010,\n",
            "          0.0805,  0.1365],\n",
            "        [ 0.0519,  0.2331,  0.0658, -0.0944, -0.2255,  0.2528,  0.1264,  0.2537,\n",
            "          0.0120,  0.0160],\n",
            "        [ 0.1531, -0.1160, -0.0206,  0.0897,  0.1428,  0.1469,  0.1174, -0.3141,\n",
            "          0.1611, -0.2691],\n",
            "        [-0.0233,  0.1713,  0.3152, -0.3007,  0.0702,  0.2259, -0.0545, -0.2476,\n",
            "         -0.0990, -0.0541],\n",
            "        [-0.1013,  0.0456,  0.0958,  0.1705,  0.0682,  0.0241,  0.2810,  0.0636,\n",
            "         -0.2600,  0.1097],\n",
            "        [ 0.1366,  0.2317, -0.1232, -0.2640, -0.3142, -0.1429,  0.0228,  0.1620,\n",
            "         -0.2062,  0.0095],\n",
            "        [ 0.1439,  0.2050, -0.2390,  0.1883,  0.0347, -0.0065,  0.3081, -0.2430,\n",
            "         -0.0326,  0.0968],\n",
            "        [ 0.1031, -0.1481,  0.0055,  0.2421, -0.1470, -0.1657,  0.2901,  0.1821,\n",
            "         -0.1087, -0.0994],\n",
            "        [-0.2847, -0.1736, -0.0537, -0.2529,  0.2128, -0.1828,  0.1641, -0.1946,\n",
            "         -0.1291, -0.1170]], requires_grad=True)\n",
            "Parameter containing:\n",
            "tensor([-0.2792,  0.1462, -0.1505,  0.0429,  0.0685, -0.2030, -0.0464,  0.1372,\n",
            "        -0.0874,  0.1458], requires_grad=True)\n",
            "Parameter containing:\n",
            "tensor([[ 0.1005, -0.0458,  0.2565, -0.2125, -0.1013,  0.1671, -0.1996, -0.1697,\n",
            "         -0.1918, -0.0226],\n",
            "        [-0.0385,  0.2348, -0.1343,  0.1118,  0.0239,  0.2801, -0.0950, -0.0424,\n",
            "          0.2858, -0.3021],\n",
            "        [ 0.1975, -0.0641, -0.1852, -0.0074, -0.2310, -0.0922, -0.2568,  0.1467,\n",
            "          0.2052, -0.0319]], requires_grad=True)\n",
            "Parameter containing:\n",
            "tensor([0.0078, 0.0229, 0.0131], requires_grad=True)\n"
          ]
        }
      ]
    },
    {
      "cell_type": "code",
      "source": [
        "x = torch.ones(4)\n",
        "y = torch.zeros(3)\n",
        "\n",
        "input_dim = x.size(0)\n",
        "output_dim = y.size(0)\n",
        "\n",
        "model = nn.Sequential(\n",
        "    nn.Linear(input_dim, 10),\n",
        "    nn.LeakyReLU(0.1),\n",
        "    nn.Linear(10, 10),\n",
        "    nn.LeakyReLU(0.1),\n",
        "    nn.Linear(10, 10),\n",
        "    nn.LeakyReLU(0.1),\n",
        "    nn.Linear(10, output_dim)\n",
        ")"
      ],
      "metadata": {
        "id": "LKOF-EM-4XXb"
      },
      "execution_count": 29,
      "outputs": []
    },
    {
      "cell_type": "code",
      "source": [
        "loss_function = nn.MSELoss()\n",
        "learning_rate = 0.01\n",
        "nb_epochs = 1000\n",
        "optimizer = torch.optim.SGD(model.parameters(), lr=learning_rate)\n",
        "\n",
        "for epoch in range(nb_epochs + 1):\n",
        "  y_pred = model(x)\n",
        "  loss = loss_function(y_pred, y)\n",
        "  optimizer.zero_grad()\n",
        "  loss.backward()\n",
        "  optimizer.step()\n",
        "\n",
        "print(loss)\n",
        "for param in model.parameters():\n",
        "  print(param)"
      ],
      "metadata": {
        "colab": {
          "base_uri": "https://localhost:8080/"
        },
        "id": "8WzBnfo64485",
        "outputId": "321a56c8-6c02-4807-c530-8b0a558bdba4"
      },
      "execution_count": 30,
      "outputs": [
        {
          "output_type": "stream",
          "name": "stdout",
          "text": [
            "tensor(4.0646e-12, grad_fn=<MseLossBackward0>)\n",
            "Parameter containing:\n",
            "tensor([[ 0.4849,  0.0935, -0.4539,  0.2831],\n",
            "        [ 0.0115, -0.1284,  0.0575,  0.4692],\n",
            "        [-0.1513, -0.3929, -0.4989,  0.0743],\n",
            "        [ 0.1420,  0.1416, -0.4146,  0.4786],\n",
            "        [-0.4399, -0.0709,  0.2614, -0.0296],\n",
            "        [-0.3673,  0.0157, -0.2803,  0.4531],\n",
            "        [ 0.0835, -0.3393,  0.2940,  0.2163],\n",
            "        [-0.0170,  0.4646, -0.4159,  0.2622],\n",
            "        [ 0.4497,  0.1653,  0.3399,  0.2634],\n",
            "        [-0.2929,  0.0620,  0.4991,  0.3065]], requires_grad=True)\n",
            "Parameter containing:\n",
            "tensor([-0.0854,  0.0100,  0.1076, -0.1957,  0.0603, -0.4840, -0.3335,  0.4280,\n",
            "         0.0439, -0.2083], requires_grad=True)\n",
            "Parameter containing:\n",
            "tensor([[ 0.1932,  0.0684,  0.0771, -0.2920,  0.0407, -0.1936, -0.1488, -0.0957,\n",
            "         -0.1753,  0.1425],\n",
            "        [ 0.2322, -0.1521, -0.1070, -0.2965, -0.1814, -0.2728, -0.1379,  0.0555,\n",
            "         -0.0130,  0.2487],\n",
            "        [-0.2008, -0.1087,  0.2321, -0.3160,  0.0235, -0.2737, -0.0834,  0.2974,\n",
            "          0.1717, -0.0871],\n",
            "        [ 0.2326, -0.0042, -0.1633, -0.0241,  0.1702,  0.1820,  0.2030,  0.2848,\n",
            "         -0.2264,  0.1351],\n",
            "        [ 0.0806, -0.2874,  0.0564,  0.1157,  0.1684,  0.1955, -0.1263, -0.1546,\n",
            "          0.2906, -0.1728],\n",
            "        [-0.1797, -0.2694, -0.3126, -0.0785, -0.0963,  0.2709, -0.1907,  0.2805,\n",
            "         -0.2571, -0.0581],\n",
            "        [ 0.0085, -0.0820,  0.2888,  0.2808, -0.0519, -0.2175,  0.0579,  0.1728,\n",
            "          0.1546,  0.0579],\n",
            "        [-0.2908, -0.1572, -0.0925, -0.0245, -0.2593, -0.2571,  0.1991, -0.0836,\n",
            "         -0.1511, -0.0298],\n",
            "        [ 0.1420,  0.2968,  0.0093, -0.1501,  0.1266,  0.0316,  0.2687,  0.2539,\n",
            "         -0.0934, -0.1036],\n",
            "        [-0.0908,  0.0686, -0.0078,  0.0158,  0.0458,  0.1041,  0.1744, -0.3259,\n",
            "          0.0401,  0.1794]], requires_grad=True)\n",
            "Parameter containing:\n",
            "tensor([ 0.1755,  0.1355,  0.1500, -0.1484,  0.0793, -0.2177,  0.1427, -0.0266,\n",
            "        -0.2541,  0.1459], requires_grad=True)\n",
            "Parameter containing:\n",
            "tensor([[-0.0760,  0.3153,  0.3228,  0.1606,  0.0046, -0.0243, -0.1458, -0.2893,\n",
            "         -0.1000, -0.0875],\n",
            "        [-0.1985, -0.0302,  0.2666,  0.0671, -0.0060,  0.0305, -0.0266,  0.0693,\n",
            "          0.1749,  0.2401],\n",
            "        [ 0.2516,  0.2548, -0.1100,  0.2882,  0.2195, -0.1771, -0.0821,  0.1622,\n",
            "         -0.1834,  0.2395],\n",
            "        [ 0.0380,  0.2082, -0.1705,  0.2405, -0.2188, -0.1128,  0.3120,  0.1727,\n",
            "          0.0155, -0.0185],\n",
            "        [ 0.0258,  0.0814, -0.2984, -0.3056,  0.2631,  0.2169, -0.0220, -0.0963,\n",
            "          0.2844,  0.0995],\n",
            "        [ 0.1045, -0.0014, -0.0809,  0.0648,  0.3031, -0.1855,  0.0235, -0.0802,\n",
            "          0.0272, -0.1478],\n",
            "        [-0.2561,  0.0397, -0.0062,  0.0077, -0.0999,  0.3160, -0.0457, -0.1503,\n",
            "         -0.0708,  0.2669],\n",
            "        [ 0.2966,  0.1635, -0.1181,  0.2413, -0.3014,  0.1249,  0.0336,  0.0132,\n",
            "         -0.2464,  0.2074],\n",
            "        [-0.2137,  0.1880, -0.1166,  0.0594, -0.0991,  0.0160,  0.1960, -0.3141,\n",
            "          0.1956, -0.2898],\n",
            "        [ 0.3034, -0.1331, -0.0898,  0.2569,  0.0929,  0.0588, -0.0523,  0.2356,\n",
            "          0.2881,  0.1864]], requires_grad=True)\n",
            "Parameter containing:\n",
            "tensor([ 0.0131,  0.2300, -0.2887,  0.1839, -0.0293, -0.3017, -0.1622, -0.3034,\n",
            "         0.3243,  0.0602], requires_grad=True)\n",
            "Parameter containing:\n",
            "tensor([[-0.3047,  0.2913, -0.0106,  0.1289, -0.2427,  0.0240,  0.0151, -0.1149,\n",
            "         -0.1654, -0.2025],\n",
            "        [ 0.0834,  0.2337,  0.2845,  0.1609, -0.3119,  0.1121, -0.2965,  0.0886,\n",
            "         -0.0296,  0.2219],\n",
            "        [ 0.0053, -0.2296,  0.0984,  0.1977, -0.1999, -0.2330,  0.0578, -0.1661,\n",
            "          0.3146, -0.0665]], requires_grad=True)\n",
            "Parameter containing:\n",
            "tensor([-0.0170, -0.1130, -0.1230], requires_grad=True)\n"
          ]
        }
      ]
    },
    {
      "cell_type": "code",
      "source": [],
      "metadata": {
        "id": "C4iARuGv5SZS"
      },
      "execution_count": null,
      "outputs": []
    }
  ]
}