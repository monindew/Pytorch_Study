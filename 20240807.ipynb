{
  "nbformat": 4,
  "nbformat_minor": 0,
  "metadata": {
    "colab": {
      "provenance": [],
      "authorship_tag": "ABX9TyNrVkN1BPOo+QyCHE8cUM6F",
      "include_colab_link": true
    },
    "kernelspec": {
      "name": "python3",
      "display_name": "Python 3"
    },
    "language_info": {
      "name": "python"
    }
  },
  "cells": [
    {
      "cell_type": "markdown",
      "metadata": {
        "id": "view-in-github",
        "colab_type": "text"
      },
      "source": [
        "<a href=\"https://colab.research.google.com/github/monindew/Pytorch_Study/blob/main/20240807.ipynb\" target=\"_parent\"><img src=\"https://colab.research.google.com/assets/colab-badge.svg\" alt=\"Open In Colab\"/></a>"
      ]
    },
    {
      "cell_type": "code",
      "execution_count": 1,
      "metadata": {
        "colab": {
          "base_uri": "https://localhost:8080/",
          "height": 36
        },
        "id": "hGpwMiqmnAZv",
        "outputId": "284bd015-74fb-4583-f8e1-49e601d96d0e"
      },
      "outputs": [
        {
          "output_type": "execute_result",
          "data": {
            "text/plain": [
              "'2.3.1+cu121'"
            ],
            "application/vnd.google.colaboratory.intrinsic+json": {
              "type": "string"
            }
          },
          "metadata": {},
          "execution_count": 1
        }
      ],
      "source": [
        "import torch\n",
        "\n",
        "torch.__version__"
      ]
    },
    {
      "cell_type": "code",
      "source": [
        "import numpy as np\n",
        "data1 = np.array(10)"
      ],
      "metadata": {
        "id": "vC9t9fdTnI1o"
      },
      "execution_count": 2,
      "outputs": []
    },
    {
      "cell_type": "code",
      "source": [
        "print(data1)\n",
        "print(data1.ndim)\n",
        "print(data1.shape)"
      ],
      "metadata": {
        "colab": {
          "base_uri": "https://localhost:8080/"
        },
        "id": "sor-pCDIo2hZ",
        "outputId": "1a89b727-7e23-4127-92bf-6eb109fca2b8"
      },
      "execution_count": 4,
      "outputs": [
        {
          "output_type": "stream",
          "name": "stdout",
          "text": [
            "10\n",
            "0\n",
            "()\n"
          ]
        }
      ]
    },
    {
      "cell_type": "code",
      "source": [
        "data1 = torch.FloatTensor([1, 2])\n",
        "print(data1, data1.dim(), data1.shape)"
      ],
      "metadata": {
        "colab": {
          "base_uri": "https://localhost:8080/"
        },
        "id": "gDhq-vC2o57F",
        "outputId": "5edbaca0-e550-43af-8e9d-a470331b8374"
      },
      "execution_count": 5,
      "outputs": [
        {
          "output_type": "stream",
          "name": "stdout",
          "text": [
            "tensor([1., 2.]) 1 torch.Size([2])\n"
          ]
        }
      ]
    },
    {
      "cell_type": "code",
      "source": [
        "data2 = torch.FloatTensor(3)\n",
        "print(data2, data2.dim(), data2.shape)"
      ],
      "metadata": {
        "colab": {
          "base_uri": "https://localhost:8080/"
        },
        "id": "KbrkC2jFptsv",
        "outputId": "2d6401aa-3b8e-4bf7-a716-dee7e2f459cf"
      },
      "execution_count": 6,
      "outputs": [
        {
          "output_type": "stream",
          "name": "stdout",
          "text": [
            "tensor([-2.7329e+18,  3.2877e-41, -2.3301e-12]) 1 torch.Size([3])\n"
          ]
        }
      ]
    },
    {
      "cell_type": "code",
      "source": [
        "data3 = torch.FloatTensor(3, 2)\n",
        "print(data3, data3.dim(), data3.shape)"
      ],
      "metadata": {
        "colab": {
          "base_uri": "https://localhost:8080/"
        },
        "id": "jJbu4zHWp0vs",
        "outputId": "11605e9e-4247-4efb-97ff-680e7b99cd7f"
      },
      "execution_count": 7,
      "outputs": [
        {
          "output_type": "stream",
          "name": "stdout",
          "text": [
            "tensor([[2.9949e+22, 3.2873e-41],\n",
            "        [3.0726e+22, 3.2873e-41],\n",
            "        [1.1210e-43, 0.0000e+00]]) 2 torch.Size([3, 2])\n"
          ]
        }
      ]
    },
    {
      "cell_type": "code",
      "source": [
        "data4 = torch.FloatTensor([ [1, 2], [3, 4], [5, 6]])\n",
        "print(data4, data4.dim(), data4.shape)"
      ],
      "metadata": {
        "colab": {
          "base_uri": "https://localhost:8080/"
        },
        "id": "1Adq7DPHqkMz",
        "outputId": "9e5b86d5-86d2-4bf3-b06c-8611e833a19e"
      },
      "execution_count": 8,
      "outputs": [
        {
          "output_type": "stream",
          "name": "stdout",
          "text": [
            "tensor([[1., 2.],\n",
            "        [3., 4.],\n",
            "        [5., 6.]]) 2 torch.Size([3, 2])\n"
          ]
        }
      ]
    },
    {
      "cell_type": "code",
      "source": [
        "data5 = torch.FloatTensor(3, 2, 1)\n",
        "print(data5, data5.dim(), data5.shape)"
      ],
      "metadata": {
        "colab": {
          "base_uri": "https://localhost:8080/"
        },
        "id": "g9FYSs6R-c2T",
        "outputId": "79fea047-8949-43ea-feb7-e200acd48bb0"
      },
      "execution_count": 9,
      "outputs": [
        {
          "output_type": "stream",
          "name": "stdout",
          "text": [
            "tensor([[[-8.9576e+18],\n",
            "         [ 3.2877e-41]],\n",
            "\n",
            "        [[ 0.0000e+00],\n",
            "         [ 1.1755e-38]],\n",
            "\n",
            "        [[ 3.1819e+19],\n",
            "         [ 3.2873e-41]]]) 3 torch.Size([3, 2, 1])\n"
          ]
        }
      ]
    },
    {
      "cell_type": "code",
      "source": [
        "data6 = torch.FloatTensor([[ [1], [2] ], [[3], [4]], [[5], [6]]])\n",
        "print(data6, data6.dim(), data6.shape)"
      ],
      "metadata": {
        "colab": {
          "base_uri": "https://localhost:8080/"
        },
        "id": "5CEy44H5-pzE",
        "outputId": "f37af289-4e16-4130-e8c7-b0067d410306"
      },
      "execution_count": 10,
      "outputs": [
        {
          "output_type": "stream",
          "name": "stdout",
          "text": [
            "tensor([[[1.],\n",
            "         [2.]],\n",
            "\n",
            "        [[3.],\n",
            "         [4.]],\n",
            "\n",
            "        [[5.],\n",
            "         [6.]]]) 3 torch.Size([3, 2, 1])\n"
          ]
        }
      ]
    },
    {
      "cell_type": "code",
      "source": [
        "data7 = torch.FloatTensor([ [1], [2], [3] ])\n",
        "print(data7, data7.dim(), data7.shape)"
      ],
      "metadata": {
        "colab": {
          "base_uri": "https://localhost:8080/"
        },
        "id": "8o2Y7MR9-0IW",
        "outputId": "4f02583c-6a32-486f-f3f9-c302f127f16a"
      },
      "execution_count": 12,
      "outputs": [
        {
          "output_type": "stream",
          "name": "stdout",
          "text": [
            "tensor([[1.],\n",
            "        [2.],\n",
            "        [3.]]) 2 torch.Size([3, 1])\n"
          ]
        }
      ]
    },
    {
      "cell_type": "code",
      "source": [
        "data8 = torch.FloatTensor([ [1, 2, 3] ])\n",
        "print(data8, data8.dim(), data8.shape)"
      ],
      "metadata": {
        "colab": {
          "base_uri": "https://localhost:8080/"
        },
        "id": "0i6c3eor_C-0",
        "outputId": "fd904e33-7fb7-4549-b137-72c360525feb"
      },
      "execution_count": 13,
      "outputs": [
        {
          "output_type": "stream",
          "name": "stdout",
          "text": [
            "tensor([[1., 2., 3.]]) 2 torch.Size([1, 3])\n"
          ]
        }
      ]
    },
    {
      "cell_type": "code",
      "source": [
        "data1 = torch.zeros(2, dtype=torch.float)\n",
        "data2 = torch.ones(2, 2, dtype=torch.double)\n",
        "data3 = torch.rand(2, 2, 3, dtype=torch.half)\n",
        "data4 = torch.randn(2, 2, 3, 4)\n",
        "data5 = torch.full((2,4), 10)\n",
        "\n",
        "print(data1.shape, data2.shape, data3.shape, data4.shape, data5.shape, data5.dtype)"
      ],
      "metadata": {
        "colab": {
          "base_uri": "https://localhost:8080/"
        },
        "id": "Fq9zvxs0_Nn3",
        "outputId": "18a2f8e6-6b1c-41df-90ac-ddd66ec89a80"
      },
      "execution_count": 15,
      "outputs": [
        {
          "output_type": "stream",
          "name": "stdout",
          "text": [
            "torch.Size([2]) torch.Size([2, 2]) torch.Size([2, 2, 3]) torch.Size([2, 2, 3, 4]) torch.Size([2, 4]) torch.int64\n"
          ]
        }
      ]
    },
    {
      "cell_type": "code",
      "source": [
        "print(data1.ndim, data2.ndim, data3.ndim, data4.ndim, data5.ndim)\n",
        "print(data1.dim(), data2.dim(), data3.dim(), data4.dim(), data5.dim())"
      ],
      "metadata": {
        "colab": {
          "base_uri": "https://localhost:8080/"
        },
        "id": "xXokRfmDENGE",
        "outputId": "8ad53e8e-141e-4705-fece-e34aa66cd482"
      },
      "execution_count": 16,
      "outputs": [
        {
          "output_type": "stream",
          "name": "stdout",
          "text": [
            "1 2 3 4 2\n",
            "1 2 3 4 2\n"
          ]
        }
      ]
    },
    {
      "cell_type": "code",
      "source": [
        "print(data1.dtype, data2.dtype, data3.dtype, data4.dtype, data5.dtype)"
      ],
      "metadata": {
        "colab": {
          "base_uri": "https://localhost:8080/"
        },
        "id": "2HUsYhuCHicL",
        "outputId": "80b3b320-c9b2-4b8d-8f12-92aca45aa0ae"
      },
      "execution_count": 17,
      "outputs": [
        {
          "output_type": "stream",
          "name": "stdout",
          "text": [
            "torch.float32 torch.float64 torch.float16 torch.float32 torch.int64\n"
          ]
        }
      ]
    },
    {
      "cell_type": "code",
      "source": [
        "print(data1.size(), data2.size(), data3.size(), data4.size(), data5.size())"
      ],
      "metadata": {
        "colab": {
          "base_uri": "https://localhost:8080/"
        },
        "id": "YkP3FErmHoiD",
        "outputId": "a1fbc1c7-e95b-402c-bd72-3828b4a1f623"
      },
      "execution_count": 18,
      "outputs": [
        {
          "output_type": "stream",
          "name": "stdout",
          "text": [
            "torch.Size([2]) torch.Size([2, 2]) torch.Size([2, 2, 3]) torch.Size([2, 2, 3, 4]) torch.Size([2, 4])\n"
          ]
        }
      ]
    },
    {
      "cell_type": "code",
      "source": [
        "data6 = torch.FloatTensor([ [1,2], [3,4] ])\n",
        "data7 = torch.DoubleTensor([ [1,2,3], [4,5,6]])\n",
        "data8 = torch.LongTensor([[1,2,3], [4,5,6], [7,8,9]])"
      ],
      "metadata": {
        "id": "U2vx-HrtH4Si"
      },
      "execution_count": 19,
      "outputs": []
    },
    {
      "cell_type": "code",
      "source": [
        "data9 = torch.FloatTensor(2, 3, 5)\n",
        "data10 = torch.DoubleTensor(3, 3, 2, 4)\n",
        "data11 = torch.LongTensor(4, 4)"
      ],
      "metadata": {
        "id": "NeL5M5XhIKGv"
      },
      "execution_count": 20,
      "outputs": []
    },
    {
      "cell_type": "code",
      "source": [
        "data11"
      ],
      "metadata": {
        "colab": {
          "base_uri": "https://localhost:8080/"
        },
        "id": "XxcKUqtfIapJ",
        "outputId": "7d4357ed-0b3d-47aa-ace1-45c16626fc98"
      },
      "execution_count": 21,
      "outputs": [
        {
          "output_type": "execute_result",
          "data": {
            "text/plain": [
              "tensor([[3688791379240040994, 7378080558593631799, 3689632707852263733,\n",
              "         7005741983074498866],\n",
              "        [3688834449525847093, 8317341608397911352, 4189022137156394855,\n",
              "         7162254423478575648],\n",
              "        [2484135899465670516, 7958535038077902892, 8440344085702995297,\n",
              "         2478507435169572211],\n",
              "        [7598543875864666156, 4050743911652683375, 3831827917486633777,\n",
              "         3847823621153449572]])"
            ]
          },
          "metadata": {},
          "execution_count": 21
        }
      ]
    },
    {
      "cell_type": "code",
      "source": [
        "data12 = torch.full_like(data5, 20)"
      ],
      "metadata": {
        "id": "qRbey3dAIb3N"
      },
      "execution_count": 22,
      "outputs": []
    },
    {
      "cell_type": "code",
      "source": [
        "print(data5)\n",
        "print(data12)"
      ],
      "metadata": {
        "colab": {
          "base_uri": "https://localhost:8080/"
        },
        "id": "pBmlprVrIigB",
        "outputId": "171d26c5-7f03-464d-cd87-d3d9f9ff29ab"
      },
      "execution_count": 23,
      "outputs": [
        {
          "output_type": "stream",
          "name": "stdout",
          "text": [
            "tensor([[10, 10, 10, 10],\n",
            "        [10, 10, 10, 10]])\n",
            "tensor([[20, 20, 20, 20],\n",
            "        [20, 20, 20, 20]])\n"
          ]
        }
      ]
    }
  ]
}