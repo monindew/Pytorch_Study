{
  "nbformat": 4,
  "nbformat_minor": 0,
  "metadata": {
    "colab": {
      "provenance": [],
      "authorship_tag": "ABX9TyPHcOY41+n7XgdM/6OBxb29",
      "include_colab_link": true
    },
    "kernelspec": {
      "name": "python3",
      "display_name": "Python 3"
    },
    "language_info": {
      "name": "python"
    }
  },
  "cells": [
    {
      "cell_type": "markdown",
      "metadata": {
        "id": "view-in-github",
        "colab_type": "text"
      },
      "source": [
        "<a href=\"https://colab.research.google.com/github/monindew/Pytorch_Study/blob/main/20240810.ipynb\" target=\"_parent\"><img src=\"https://colab.research.google.com/assets/colab-badge.svg\" alt=\"Open In Colab\"/></a>"
      ]
    },
    {
      "cell_type": "code",
      "execution_count": 7,
      "metadata": {
        "id": "gGUNYeUNSxam"
      },
      "outputs": [],
      "source": [
        "import torch\n",
        "\n",
        "x = torch.rand(1, requires_grad=True)\n",
        "y = torch.rand(1)\n",
        "y.requires_grad=True\n",
        "loss = y - x"
      ]
    },
    {
      "cell_type": "code",
      "source": [
        "loss.backward()\n",
        "print(x.grad, y.grad)"
      ],
      "metadata": {
        "colab": {
          "base_uri": "https://localhost:8080/"
        },
        "id": "T9RkF1l1TpRP",
        "outputId": "b475c30a-f2b8-40f6-f7df-2767a40aec61"
      },
      "execution_count": 8,
      "outputs": [
        {
          "output_type": "stream",
          "name": "stdout",
          "text": [
            "tensor([-1.]) tensor([1.])\n"
          ]
        }
      ]
    },
    {
      "cell_type": "code",
      "source": [
        "x = torch.ones(4)\n",
        "y = torch.zeros(3)\n",
        "W = torch.rand(4, 3, requires_grad=True)\n",
        "b = torch.rand(3, requires_grad=True)\n",
        "z = torch.matmul(x, W) + b\n",
        "print(W, b, z)"
      ],
      "metadata": {
        "colab": {
          "base_uri": "https://localhost:8080/"
        },
        "id": "Amkedx85T_m_",
        "outputId": "7c3f98b6-f7f3-4528-eca6-1546e50a4fff"
      },
      "execution_count": 13,
      "outputs": [
        {
          "output_type": "stream",
          "name": "stdout",
          "text": [
            "tensor([[0.1164, 0.6312, 0.7335],\n",
            "        [0.7449, 0.4324, 0.3372],\n",
            "        [0.0996, 0.5533, 0.9048],\n",
            "        [0.5269, 0.1266, 0.8662]], requires_grad=True) tensor([0.0609, 0.3841, 0.9823], requires_grad=True) tensor([1.5486, 2.1276, 3.8239], grad_fn=<AddBackward0>)\n"
          ]
        }
      ]
    },
    {
      "cell_type": "code",
      "source": [
        "import torch.nn.functional as F\n",
        "\n",
        "loss = F.mse_loss(z, y)\n",
        "loss.backward()\n",
        "print(loss, W.grad, b.grad)"
      ],
      "metadata": {
        "colab": {
          "base_uri": "https://localhost:8080/"
        },
        "id": "1qXoR4zQUnl5",
        "outputId": "8cdcfc47-51f2-4de2-e422-be04794d9d73"
      },
      "execution_count": 14,
      "outputs": [
        {
          "output_type": "stream",
          "name": "stdout",
          "text": [
            "tensor(7.1824, grad_fn=<MseLossBackward0>) tensor([[1.0324, 1.4184, 2.5493],\n",
            "        [1.0324, 1.4184, 2.5493],\n",
            "        [1.0324, 1.4184, 2.5493],\n",
            "        [1.0324, 1.4184, 2.5493]]) tensor([1.0324, 1.4184, 2.5493])\n"
          ]
        }
      ]
    },
    {
      "cell_type": "code",
      "source": [
        "threshold = 0.1\n",
        "learning_rate = 0.1\n",
        "iteration_num = 0\n",
        "\n",
        "while loss > threshold:\n",
        "  iteration_num += 1\n",
        "  W = W - learning_rate * W.grad\n",
        "  b = b - learning_rate * b.grad\n",
        "  print(iteration_num, loss, z, y)\n",
        "  W.detach_().requires_grad_(True)\n",
        "  b.detach_().requires_grad_(True)\n",
        "  z = torch.matmul(x, W) + b\n",
        "  loss = F.mse_loss(z, y)\n",
        "  loss.backward()\n",
        "\n",
        "print(iteration_num + 1, loss, z, y)"
      ],
      "metadata": {
        "colab": {
          "base_uri": "https://localhost:8080/"
        },
        "id": "ftJce2lwU2Da",
        "outputId": "3a15f3bb-c98a-4225-fb0b-5b35d2e071af"
      },
      "execution_count": 15,
      "outputs": [
        {
          "output_type": "stream",
          "name": "stdout",
          "text": [
            "1 tensor(7.1824, grad_fn=<MseLossBackward0>) tensor([1.5486, 2.1276, 3.8239], grad_fn=<AddBackward0>) tensor([0., 0., 0.])\n",
            "2 tensor(3.1922, grad_fn=<MseLossBackward0>) tensor([1.0324, 1.4184, 2.5493], grad_fn=<AddBackward0>) tensor([0., 0., 0.])\n",
            "3 tensor(1.4187, grad_fn=<MseLossBackward0>) tensor([0.6883, 0.9456, 1.6995], grad_fn=<AddBackward0>) tensor([0., 0., 0.])\n",
            "4 tensor(0.6306, grad_fn=<MseLossBackward0>) tensor([0.4588, 0.6304, 1.1330], grad_fn=<AddBackward0>) tensor([0., 0., 0.])\n",
            "5 tensor(0.2802, grad_fn=<MseLossBackward0>) tensor([0.3059, 0.4203, 0.7553], grad_fn=<AddBackward0>) tensor([0., 0., 0.])\n",
            "6 tensor(0.1246, grad_fn=<MseLossBackward0>) tensor([0.2039, 0.2802, 0.5036], grad_fn=<AddBackward0>) tensor([0., 0., 0.])\n",
            "7 tensor(0.0554, grad_fn=<MseLossBackward0>) tensor([0.1360, 0.1868, 0.3357], grad_fn=<AddBackward0>) tensor([0., 0., 0.])\n"
          ]
        }
      ]
    },
    {
      "cell_type": "code",
      "source": [],
      "metadata": {
        "id": "22IMrMWbVPQH"
      },
      "execution_count": null,
      "outputs": []
    }
  ]
}