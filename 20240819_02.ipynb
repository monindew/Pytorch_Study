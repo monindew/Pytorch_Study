{
  "nbformat": 4,
  "nbformat_minor": 0,
  "metadata": {
    "colab": {
      "provenance": [],
      "authorship_tag": "ABX9TyMNJmrU1Dwap+EhMXQ17TmS",
      "include_colab_link": true
    },
    "kernelspec": {
      "name": "python3",
      "display_name": "Python 3"
    },
    "language_info": {
      "name": "python"
    }
  },
  "cells": [
    {
      "cell_type": "markdown",
      "metadata": {
        "id": "view-in-github",
        "colab_type": "text"
      },
      "source": [
        "<a href=\"https://colab.research.google.com/github/monindew/Pytorch_Study/blob/main/20240819_02.ipynb\" target=\"_parent\"><img src=\"https://colab.research.google.com/assets/colab-badge.svg\" alt=\"Open In Colab\"/></a>"
      ]
    },
    {
      "cell_type": "code",
      "execution_count": 3,
      "metadata": {
        "id": "VVH6QgzSNbWm"
      },
      "outputs": [],
      "source": [
        "import torch\n",
        "import torch.nn as nn\n",
        "import numpy as np\n",
        "import pandas as pd\n",
        "\n",
        "from sklearn.datasets import load_iris\n",
        "from sklearn.model_selection import train_test_split\n",
        "from sklearn.preprocessing import StandardScaler\n",
        "\n",
        "iris = load_iris()\n",
        "X = iris[\"data\"]\n",
        "y = iris[\"target\"]\n",
        "names = iris[\"target_names\"]\n",
        "feature_names = iris[\"feature_names\"]\n",
        "\n",
        "X_train, X_test, y_train, y_test = train_test_split(X, y, test_size=0.2, stratify=y)"
      ]
    },
    {
      "cell_type": "code",
      "source": [
        "std_scaler = StandardScaler()\n",
        "std_scaler.fit(X_train)\n",
        "X_train_tensor = torch.from_numpy(std_scaler.transform(X_train)).float()\n",
        "X_test_tensor = torch.from_numpy(std_scaler.transform(X_test)).float()\n",
        "y_train_tensor = torch.from_numpy(y_train).long()\n",
        "y_test_tensor = torch.from_numpy(y_test).long()\n",
        "\n",
        "print(X_train_tensor.shape, X_test_tensor.shape, y_train_tensor.shape, y_test_tensor.shape)"
      ],
      "metadata": {
        "colab": {
          "base_uri": "https://localhost:8080/"
        },
        "id": "f-mn3MkxN2hO",
        "outputId": "3c1bf0b6-0cb4-4031-c192-8137319a1d9f"
      },
      "execution_count": 4,
      "outputs": [
        {
          "output_type": "stream",
          "name": "stdout",
          "text": [
            "torch.Size([120, 4]) torch.Size([30, 4]) torch.Size([120]) torch.Size([30])\n"
          ]
        }
      ]
    },
    {
      "cell_type": "code",
      "source": [
        "nb_epochs = 1000\n",
        "minibatch_size = 120"
      ],
      "metadata": {
        "id": "9SBu33rjOO3U"
      },
      "execution_count": 5,
      "outputs": []
    },
    {
      "cell_type": "code",
      "source": [
        "class FunModel(nn.Module):\n",
        "  def __init__(self, input_dim, output_dim):\n",
        "    super().__init__()\n",
        "\n",
        "    self.linear_layers = nn.Sequential(\n",
        "        nn.Linear(input_dim, 100),\n",
        "        nn.LeakyReLU(0.1),\n",
        "        nn.Linear(100, 20),\n",
        "        nn.LeakyReLU(0.1),\n",
        "        nn.Linear(20, 5),\n",
        "        nn.LeakyReLU(0.1),\n",
        "        nn.Linear(5, output_dim),\n",
        "        nn.LogSoftmax(dim=-1)\n",
        "    )\n",
        "\n",
        "  def forward(self, x):\n",
        "    y = self.linear_layers(x)\n",
        "    return y"
      ],
      "metadata": {
        "id": "L3bvRYH7OSa4"
      },
      "execution_count": 14,
      "outputs": []
    },
    {
      "cell_type": "code",
      "source": [
        "input_dim = X_train_tensor.size(-1)\n",
        "output_dim = 3\n",
        "print(input_dim, output_dim)\n",
        "model = FunModel(input_dim, output_dim)"
      ],
      "metadata": {
        "colab": {
          "base_uri": "https://localhost:8080/"
        },
        "id": "FNzLiyzpOwF4",
        "outputId": "bc3c7fe6-7178-4d43-92bf-e2a84bba902d"
      },
      "execution_count": 15,
      "outputs": [
        {
          "output_type": "stream",
          "name": "stdout",
          "text": [
            "4 3\n"
          ]
        }
      ]
    },
    {
      "cell_type": "code",
      "source": [
        "loss_func = nn.NLLLoss()\n",
        "optimizer = torch.optim.Adam(model.parameters())"
      ],
      "metadata": {
        "id": "qBiM8PhePH1O"
      },
      "execution_count": 30,
      "outputs": []
    },
    {
      "cell_type": "code",
      "source": [
        "for index in range(nb_epochs):\n",
        "  indices = torch.randperm(X_train_tensor.size(0))\n",
        "\n",
        "  x_batch_list = torch.index_select(X_train_tensor, dim=0, index=indices)\n",
        "  y_batch_list = torch.index_select(y_train_tensor, dim=0, index=indices)\n",
        "  x_batch_list = x_batch_list.split(minibatch_size, 0)\n",
        "  y_batch_list = y_batch_list.split(minibatch_size, 0)\n",
        "\n",
        "  epoch_loss = list()\n",
        "  for x_minibatch, y_minibatch in zip(x_batch_list , y_batch_list):\n",
        "    y_minibatch_pred = model(x_minibatch)\n",
        "    loss = loss_func(y_minibatch_pred, y_minibatch)\n",
        "    epoch_loss.append(loss)\n",
        "\n",
        "    optimizer.zero_grad()\n",
        "    loss.backward()\n",
        "    optimizer.step()\n",
        "\n",
        "  if index % 100 == 0:\n",
        "    print(index, sum(epoch_loss) / len(epoch_loss))"
      ],
      "metadata": {
        "colab": {
          "base_uri": "https://localhost:8080/"
        },
        "id": "8P0oI8R7QDMg",
        "outputId": "edf90e4e-3156-4d3f-865b-d93fde068827"
      },
      "execution_count": 31,
      "outputs": [
        {
          "output_type": "stream",
          "name": "stdout",
          "text": [
            "0 tensor(0.0001, grad_fn=<DivBackward0>)\n",
            "100 tensor(1.1925e-05, grad_fn=<DivBackward0>)\n",
            "200 tensor(4.3698e-06, grad_fn=<DivBackward0>)\n",
            "300 tensor(2.3007e-06, grad_fn=<DivBackward0>)\n",
            "400 tensor(1.4315e-06, grad_fn=<DivBackward0>)\n",
            "500 tensor(9.8247e-07, grad_fn=<DivBackward0>)\n",
            "600 tensor(7.1525e-07, grad_fn=<DivBackward0>)\n",
            "700 tensor(5.4439e-07, grad_fn=<DivBackward0>)\n",
            "800 tensor(4.2716e-07, grad_fn=<DivBackward0>)\n",
            "900 tensor(3.4571e-07, grad_fn=<DivBackward0>)\n"
          ]
        }
      ]
    },
    {
      "cell_type": "code",
      "source": [
        "model.eval()\n",
        "with torch.no_grad():\n",
        "  y_test_pred = model(X_test_tensor)\n",
        "  y_pred_list = torch.argmax(y_test_pred, dim=1)"
      ],
      "metadata": {
        "id": "vbK6wMSpXHwm"
      },
      "execution_count": 32,
      "outputs": []
    },
    {
      "cell_type": "code",
      "source": [
        "y_pred_list = list()\n",
        "x_test_batch_list = X_test_tensor.split(minibatch_size, 0)\n",
        "model.eval()\n",
        "with torch.no_grad():\n",
        "  for x_minibatch in x_test_batch_list:\n",
        "    y_test_pred = model(x_minibatch)\n",
        "    print(y_test_pred.shape)\n",
        "    y_test_pred = torch.argmax(y_test_pred, dim=1)\n",
        "    print(y_test_pred.shape)\n",
        "    y_pred_list.extend(y_test_pred.detach().tolist())\n",
        "\n",
        "y_pred_list = torch.tensor(y_pred_list)"
      ],
      "metadata": {
        "colab": {
          "base_uri": "https://localhost:8080/"
        },
        "id": "ZuB2E9LMY0Ro",
        "outputId": "9a309580-8370-4af4-b220-6175341f7f57"
      },
      "execution_count": 37,
      "outputs": [
        {
          "output_type": "stream",
          "name": "stdout",
          "text": [
            "torch.Size([30, 3])\n",
            "torch.Size([30])\n"
          ]
        }
      ]
    },
    {
      "cell_type": "code",
      "source": [
        "print(y_pred_list.shape, y_test_tensor.shape)"
      ],
      "metadata": {
        "colab": {
          "base_uri": "https://localhost:8080/"
        },
        "id": "GYbgILCkZkxa",
        "outputId": "6245d22b-a995-4d09-8215-c63d223e35ab"
      },
      "execution_count": 38,
      "outputs": [
        {
          "output_type": "stream",
          "name": "stdout",
          "text": [
            "torch.Size([30]) torch.Size([30])\n"
          ]
        }
      ]
    },
    {
      "cell_type": "code",
      "source": [
        "from sklearn.metrics import confusion_matrix, precision_score, recall_score, f1_score\n",
        "\n",
        "print(\"Confusion Matrix\\n\", str(confusion_matrix(y_test_tensor, y_pred_list)))\n",
        "print(\"Precision List:\\t\", str(precision_score(y_test_tensor, y_pred_list, average=None)))\n",
        "print(\"Macro Precision:\\t\", str(precision_score(y_test_tensor, y_pred_list, average=\"macro\")))\n",
        "print(\"Macro Precision Formula:\", str(sum(precision_score(y_test_tensor, y_pred_list, average=None)) / 3))\n",
        "print(\"Micro Precision:\\t\", str(precision_score(y_test_tensor, y_pred_list, average=\"micro\")))\n",
        "\n",
        "print(\"Recall List:\\t\", str(precision_score(y_test_tensor, y_pred_list, average=None)))\n",
        "print(\"Macro Recall:\\t\", str(recall_score(y_test_tensor, y_pred_list, average=\"macro\")))\n",
        "print(\"Micro Recall:\\t\", str(recall_score(y_test_tensor, y_pred_list, average=\"micro\")))\n",
        "\n",
        "print(\"Macro F1 Score List:\\t\", str(f1_score(y_test_tensor, y_pred_list, average=None)))\n",
        "print(\"Macro F1 Score:\\t\", str(f1_score(y_test_tensor, y_pred_list, average=\"macro\")))\n",
        "print(\"Micro F1 Score:\\t\", str(f1_score(y_test_tensor, y_pred_list, average=\"micro\")))"
      ],
      "metadata": {
        "colab": {
          "base_uri": "https://localhost:8080/"
        },
        "id": "HVH0gSaKdaGX",
        "outputId": "5066be3e-9763-487c-c940-dffd868f1898"
      },
      "execution_count": 42,
      "outputs": [
        {
          "output_type": "stream",
          "name": "stdout",
          "text": [
            "Confusion Matrix\n",
            " [[10  0  0]\n",
            " [ 0 10  0]\n",
            " [ 0  1  9]]\n",
            "Precision List:\t [1.         0.90909091 1.        ]\n",
            "Macro Precision:\t 0.9696969696969697\n",
            "Macro Precision Formula: 0.9696969696969697\n",
            "Micro Precision:\t 0.9666666666666667\n",
            "Recall List:\t [1.         0.90909091 1.        ]\n",
            "Macro Recall:\t 0.9666666666666667\n",
            "Micro Recall:\t 0.9666666666666667\n",
            "Macro F1 Score List:\t [1.         0.95238095 0.94736842]\n",
            "Macro F1 Score:\t 0.9665831244778613\n",
            "Micro F1 Score:\t 0.9666666666666667\n"
          ]
        }
      ]
    },
    {
      "cell_type": "code",
      "source": [],
      "metadata": {
        "id": "6KNKO4P0d8C5"
      },
      "execution_count": null,
      "outputs": []
    }
  ]
}